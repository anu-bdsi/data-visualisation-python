{
 "cells": [
  {
   "cell_type": "markdown",
   "id": "9768bfa1-46a1-4d88-af18-31f4f95b0867",
   "metadata": {},
   "source": [
    "# Choosing color palettes\n",
    "\n",
    "Seaborn makes it easy to use colors that are well-suited to the characteristics of your data and your visualisation goals. This chapter discusses both the general principles that should guide your choices and the tools in seaborn that help you quickly find the best solution for a given application."
   ]
  },
  {
   "cell_type": "markdown",
   "id": "6681e95a-2465-4124-ad1b-679f9c366b43",
   "metadata": {},
   "source": [
    "## General principles for using color in plots"
   ]
  },
  {
   "cell_type": "markdown",
   "id": "79e75022-100d-4e86-bf37-c7ce3c5dce35",
   "metadata": {},
   "source": [
    "### Components of color \n",
    "\n",
    "Because of the way our eyes work, a particular color can be defined using three components. We usually program colors in a computer by specifying their RGB values, which set the intensity of the red, green, blue channels in a display. But for analysing the perceptual attributes of a color, it's better to think in terms of __hue__, __saturation__, and __luminance__ channels. \n",
    "\n",
    "__Hue__ is the component that distinguishes \"different colors\" in a non-technical sense. It's property of color that leads to first-order names like \"red\" and \"blue\":\n",
    "\n",
    "![hue-color](figs/hue_color.png)"
   ]
  },
  {
   "cell_type": "markdown",
   "id": "9b912cb8-1e10-49e9-9a99-fa1fa94a468c",
   "metadata": {},
   "source": [
    "__Saturation__ (or chroma) is the colorfulness. Two colors with different hues will look more distinct when they have more saturation:\n",
    "\n",
    "![saturation-color](figs/saturation_color.png)"
   ]
  },
  {
   "cell_type": "markdown",
   "id": "c8ea80c5-e8d5-4a81-8e04-18caaf31c9ab",
   "metadata": {},
   "source": [
    "__Lightness__ corresponds to how much light is emitted, ranging from black to white.\n",
    "\n",
    "![lightness-color](figs/lightness_color.png)"
   ]
  },
  {
   "cell_type": "markdown",
   "id": "b3f4571e-c785-41ca-bce7-ef44be410c5e",
   "metadata": {},
   "source": [
    "### Vary hue to distinguish categories\n",
    "\n",
    "When you want to represent multiple categories in a plot, you typically should vary the color of the elements. Consider this simple example: in which of these two plots is it easier to count the number of triangular points?\n",
    "\n",
    "![hue-distinguish](figs/hue_to_distinguish_colors.png)"
   ]
  },
  {
   "cell_type": "markdown",
   "id": "ce381e66-04fd-4a94-b64a-b80bb69ef302",
   "metadata": {},
   "source": [
    "In the plot on the right, the orange triangles \"pop out\", making it easy to distinguish them from the circles. This pop-out effect happens because our visual system prioritises color differences. \n",
    "\n",
    "The blue and orange colors differ mostly in terms of their hue. Hue is useful for representing categories: most people can distinguish a moderate number of hues relatively easily, and points that have different hues but similar brightness or intensity seem equally imprtant. It also makes plots easier to talk about. Consider this example:\n",
    "\n",
    "![hue-to-distinguish-colors](figs/hue_to_distinguish_colors_02.png)"
   ]
  },
  {
   "cell_type": "markdown",
   "id": "e967d9c9-3c3e-4799-8ab3-9d763eee05f5",
   "metadata": {},
   "source": [
    "If the left plot represents five distinct categories, it would be easy to understand. But if we use the right plot to represent 5 distinct categories, it would difficult to distinguish them from each other. \n",
    "\n",
    "As a general rule, use hue variation to represent categories. With that said, here are few notes of caution. \n",
    "\n",
    "If you have more than a handful of colors in your plot, it can become difficult to keep in mind what each one means and the viewer will have to continually refer to the legend to make sense of what is shown. So we should strive not to make plots that are too complex. And be mindful that not everyone sees colors the same way. Varying both __shape and color__ can help people with anomalour color vision understand your plots, and it can keep them interpretable if they are printed to black-and-white.  "
   ]
  },
  {
   "cell_type": "markdown",
   "id": "64bd82c4-4d52-4d2e-888c-141fcd339a8c",
   "metadata": {},
   "source": [
    "### Vary luminance to represent numbers\n",
    "\n",
    "On the other hand, hue variation are not well suited to representing numeric data. Consider this example, where we need colors to represent the counts in a bivariate histogram. On the left, we use a circular colormap where gradual changes in the number of observation within each bin correspond to gradual changes in hue. On the right, we use a palette that uses brighter colors to represent bins with larger counts:\n",
    "\n",
    "![heat-map](figs/heat_map.png)"
   ]
  },
  {
   "cell_type": "markdown",
   "id": "5a0137b1-44ad-45f4-ad7a-676746612ce7",
   "metadata": {},
   "source": [
    "These examples show that color palette choices are about more than aesthetics: the colors you choose can reveal patterns in your data if used effectively. There is not one optimal palette, but there are palettes that are better or worse for particular datasets and visualisation approaches. \n",
    "\n",
    "And aesthetics do matter: the more that people want to look at your figures, the greater the chance that they will learn something from them. This is true even when you are making plots for yourself. During exploratory data analysis, you may generate many similar figures. Varing the color palettes will add a sense of novelty, which keeps you engaged and prepared to notice interesting features of your data. \n",
    "\n",
    "So how can you choose color palettes that both represent your data well and look attractive?"
   ]
  },
  {
   "cell_type": "markdown",
   "id": "bafe3d84-89f5-4343-b997-bc918caf0f9a",
   "metadata": {},
   "source": [
    "## Tools for choosing color palettes\n",
    "\n",
    "The most important function for working with color palettes is `color_palette()`. This function provides an interface to most of the possible ways that one can generate color palettes in seaborn. And it's used internally by any function that has a `palette` argument. \n",
    "\n",
    "Calling `color_palette()` with no arguments will return the current default color palette that seaborn and matplotlib functions will use if colors are not otherwise specified. This default palette can be set with the corresponding `set_palette()` function."
   ]
  },
  {
   "cell_type": "markdown",
   "id": "34a4b0fc-68f1-48a2-88f4-52a3ce5327c8",
   "metadata": {},
   "source": [
    "Broadly, color palettes fall into one of three categories:\n",
    "\n",
    "* Qualitative palettes, good for representing categorical data\n",
    "* Sequential palette, good for representing numeric data\n",
    "* Diverging palettes, good for representing numeric data with a categorical boundary"
   ]
  },
  {
   "cell_type": "markdown",
   "id": "3d0aaeb1-4d88-4c8b-9348-72d6bb4a3130",
   "metadata": {},
   "source": [
    "## Qualitative color palettes\n",
    "\n",
    "Qualitative palettes are well-suited to representing categorical data because most of their variation is in the hue component. The default color palette in seaborn is a qualitative palette with ten distinct hues:"
   ]
  },
  {
   "cell_type": "code",
   "execution_count": 1,
   "id": "c50dafa5-7db7-4bb2-9adf-9f64b3f1c551",
   "metadata": {},
   "outputs": [
    {
     "data": {
      "text/html": [
       "<svg  width=\"550\" height=\"55\"><rect x=\"0\" y=\"0\" width=\"55\" height=\"55\" style=\"fill:#4c72b0;stroke-width:2;stroke:rgb(255,255,255)\"/><rect x=\"55\" y=\"0\" width=\"55\" height=\"55\" style=\"fill:#dd8452;stroke-width:2;stroke:rgb(255,255,255)\"/><rect x=\"110\" y=\"0\" width=\"55\" height=\"55\" style=\"fill:#55a868;stroke-width:2;stroke:rgb(255,255,255)\"/><rect x=\"165\" y=\"0\" width=\"55\" height=\"55\" style=\"fill:#c44e52;stroke-width:2;stroke:rgb(255,255,255)\"/><rect x=\"220\" y=\"0\" width=\"55\" height=\"55\" style=\"fill:#8172b3;stroke-width:2;stroke:rgb(255,255,255)\"/><rect x=\"275\" y=\"0\" width=\"55\" height=\"55\" style=\"fill:#937860;stroke-width:2;stroke:rgb(255,255,255)\"/><rect x=\"330\" y=\"0\" width=\"55\" height=\"55\" style=\"fill:#da8bc3;stroke-width:2;stroke:rgb(255,255,255)\"/><rect x=\"385\" y=\"0\" width=\"55\" height=\"55\" style=\"fill:#8c8c8c;stroke-width:2;stroke:rgb(255,255,255)\"/><rect x=\"440\" y=\"0\" width=\"55\" height=\"55\" style=\"fill:#ccb974;stroke-width:2;stroke:rgb(255,255,255)\"/><rect x=\"495\" y=\"0\" width=\"55\" height=\"55\" style=\"fill:#64b5cd;stroke-width:2;stroke:rgb(255,255,255)\"/></svg>"
      ],
      "text/plain": [
       "[(0.2980392156862745, 0.4470588235294118, 0.6901960784313725),\n",
       " (0.8666666666666667, 0.5176470588235295, 0.3215686274509804),\n",
       " (0.3333333333333333, 0.6588235294117647, 0.40784313725490196),\n",
       " (0.7686274509803922, 0.3058823529411765, 0.3215686274509804),\n",
       " (0.5058823529411764, 0.4470588235294118, 0.7019607843137254),\n",
       " (0.5764705882352941, 0.47058823529411764, 0.3764705882352941),\n",
       " (0.8549019607843137, 0.5450980392156862, 0.7647058823529411),\n",
       " (0.5490196078431373, 0.5490196078431373, 0.5490196078431373),\n",
       " (0.8, 0.7254901960784313, 0.4549019607843137),\n",
       " (0.39215686274509803, 0.7098039215686275, 0.803921568627451)]"
      ]
     },
     "execution_count": 1,
     "metadata": {},
     "output_type": "execute_result"
    }
   ],
   "source": [
    "import seaborn as sns\n",
    "import matplotlib.pyplot as plt\n",
    "sns.set_theme()\n",
    "sns.color_palette()"
   ]
  },
  {
   "cell_type": "markdown",
   "id": "b8207225-22d0-4558-825a-c9da547c14a3",
   "metadata": {},
   "source": [
    "These colors have the same ordering as the default matplotlib color palette, `\"tab10\"`, but they are a bit less intense. Compare:"
   ]
  },
  {
   "cell_type": "code",
   "execution_count": 2,
   "id": "2c41127e-3eb3-4ea5-8eb8-bd21d05b90fc",
   "metadata": {},
   "outputs": [
    {
     "data": {
      "text/html": [
       "<svg  width=\"550\" height=\"55\"><rect x=\"0\" y=\"0\" width=\"55\" height=\"55\" style=\"fill:#1f77b4;stroke-width:2;stroke:rgb(255,255,255)\"/><rect x=\"55\" y=\"0\" width=\"55\" height=\"55\" style=\"fill:#ff7f0e;stroke-width:2;stroke:rgb(255,255,255)\"/><rect x=\"110\" y=\"0\" width=\"55\" height=\"55\" style=\"fill:#2ca02c;stroke-width:2;stroke:rgb(255,255,255)\"/><rect x=\"165\" y=\"0\" width=\"55\" height=\"55\" style=\"fill:#d62728;stroke-width:2;stroke:rgb(255,255,255)\"/><rect x=\"220\" y=\"0\" width=\"55\" height=\"55\" style=\"fill:#9467bd;stroke-width:2;stroke:rgb(255,255,255)\"/><rect x=\"275\" y=\"0\" width=\"55\" height=\"55\" style=\"fill:#8c564b;stroke-width:2;stroke:rgb(255,255,255)\"/><rect x=\"330\" y=\"0\" width=\"55\" height=\"55\" style=\"fill:#e377c2;stroke-width:2;stroke:rgb(255,255,255)\"/><rect x=\"385\" y=\"0\" width=\"55\" height=\"55\" style=\"fill:#7f7f7f;stroke-width:2;stroke:rgb(255,255,255)\"/><rect x=\"440\" y=\"0\" width=\"55\" height=\"55\" style=\"fill:#bcbd22;stroke-width:2;stroke:rgb(255,255,255)\"/><rect x=\"495\" y=\"0\" width=\"55\" height=\"55\" style=\"fill:#17becf;stroke-width:2;stroke:rgb(255,255,255)\"/></svg>"
      ],
      "text/plain": [
       "[(0.12156862745098039, 0.4666666666666667, 0.7058823529411765),\n",
       " (1.0, 0.4980392156862745, 0.054901960784313725),\n",
       " (0.17254901960784313, 0.6274509803921569, 0.17254901960784313),\n",
       " (0.8392156862745098, 0.15294117647058825, 0.1568627450980392),\n",
       " (0.5803921568627451, 0.403921568627451, 0.7411764705882353),\n",
       " (0.5490196078431373, 0.33725490196078434, 0.29411764705882354),\n",
       " (0.8901960784313725, 0.4666666666666667, 0.7607843137254902),\n",
       " (0.4980392156862745, 0.4980392156862745, 0.4980392156862745),\n",
       " (0.7372549019607844, 0.7411764705882353, 0.13333333333333333),\n",
       " (0.09019607843137255, 0.7450980392156863, 0.8117647058823529)]"
      ]
     },
     "execution_count": 2,
     "metadata": {},
     "output_type": "execute_result"
    }
   ],
   "source": [
    "sns.color_palette(\"tab10\")"
   ]
  },
  {
   "cell_type": "markdown",
   "id": "9ff92c36-7864-4f66-ab66-93d531013545",
   "metadata": {},
   "source": [
    "Seaborn has six variations of matplotlib's palette, called `deep`, `muted`, `pastel`, `bright`, `dark`, and `colorblind`. These span a range of average luminance and saturation values:\n",
    "\n",
    "![6-palette](figs/6_palettes.png)"
   ]
  },
  {
   "cell_type": "markdown",
   "id": "cf7f88d6-892f-4a4b-8125-c8f224fcc7d6",
   "metadata": {},
   "source": [
    "### Using circular color systems\n",
    "\n",
    "When you have an arbitrary number of categories, the easiest approach to finding unique hues is to draw evenly-spaced colors in a circular color space (one where the hue changes while keeping the brightness and saturation constant). This is what most seaborn functions default to when they need to use more colors than are currently set in the default color cycle.\n",
    "\n",
    "The most common way to do this uses the `hls` color space, which is a simple transformation of RGB values:"
   ]
  },
  {
   "cell_type": "code",
   "execution_count": 3,
   "id": "e8fdd144-fe7c-47d1-8374-0fcc37d4a857",
   "metadata": {},
   "outputs": [
    {
     "data": {
      "text/html": [
       "<svg  width=\"550\" height=\"55\"><rect x=\"0\" y=\"0\" width=\"55\" height=\"55\" style=\"fill:#db5f57;stroke-width:2;stroke:rgb(255,255,255)\"/><rect x=\"55\" y=\"0\" width=\"55\" height=\"55\" style=\"fill:#dbae57;stroke-width:2;stroke:rgb(255,255,255)\"/><rect x=\"110\" y=\"0\" width=\"55\" height=\"55\" style=\"fill:#b9db57;stroke-width:2;stroke:rgb(255,255,255)\"/><rect x=\"165\" y=\"0\" width=\"55\" height=\"55\" style=\"fill:#69db57;stroke-width:2;stroke:rgb(255,255,255)\"/><rect x=\"220\" y=\"0\" width=\"55\" height=\"55\" style=\"fill:#57db94;stroke-width:2;stroke:rgb(255,255,255)\"/><rect x=\"275\" y=\"0\" width=\"55\" height=\"55\" style=\"fill:#57d3db;stroke-width:2;stroke:rgb(255,255,255)\"/><rect x=\"330\" y=\"0\" width=\"55\" height=\"55\" style=\"fill:#5784db;stroke-width:2;stroke:rgb(255,255,255)\"/><rect x=\"385\" y=\"0\" width=\"55\" height=\"55\" style=\"fill:#7957db;stroke-width:2;stroke:rgb(255,255,255)\"/><rect x=\"440\" y=\"0\" width=\"55\" height=\"55\" style=\"fill:#c957db;stroke-width:2;stroke:rgb(255,255,255)\"/><rect x=\"495\" y=\"0\" width=\"55\" height=\"55\" style=\"fill:#db579e;stroke-width:2;stroke:rgb(255,255,255)\"/></svg>"
      ],
      "text/plain": [
       "[(0.86, 0.3712, 0.33999999999999997),\n",
       " (0.86, 0.6832, 0.33999999999999997),\n",
       " (0.7247999999999999, 0.86, 0.33999999999999997),\n",
       " (0.41279999999999994, 0.86, 0.33999999999999997),\n",
       " (0.33999999999999997, 0.86, 0.5792000000000002),\n",
       " (0.33999999999999997, 0.8287999999999999, 0.86),\n",
       " (0.33999999999999997, 0.5167999999999995, 0.86),\n",
       " (0.4752000000000003, 0.33999999999999997, 0.86),\n",
       " (0.7871999999999999, 0.33999999999999997, 0.86),\n",
       " (0.86, 0.33999999999999997, 0.6207999999999999)]"
      ]
     },
     "execution_count": 3,
     "metadata": {},
     "output_type": "execute_result"
    }
   ],
   "source": [
    "sns.color_palette(\"hls\", 10)"
   ]
  },
  {
   "cell_type": "markdown",
   "id": "ed7918a6-1bcc-43aa-b39b-97ab7fff8646",
   "metadata": {},
   "source": [
    "Because of the way the human visual system works, colors that have the same luminance and saturation in terms of their RGB values won't necessarily look equally intense. To remedy this, seaborn created the husl system, which achieves less intensity variation as you rotate around the color wheel:"
   ]
  },
  {
   "cell_type": "code",
   "execution_count": 4,
   "id": "7fbd855c-d0a4-42f3-84a7-c5362020ad0a",
   "metadata": {},
   "outputs": [
    {
     "data": {
      "text/html": [
       "<svg  width=\"825\" height=\"55\"><rect x=\"0\" y=\"0\" width=\"55\" height=\"55\" style=\"fill:#f77189;stroke-width:2;stroke:rgb(255,255,255)\"/><rect x=\"55\" y=\"0\" width=\"55\" height=\"55\" style=\"fill:#f37a32;stroke-width:2;stroke:rgb(255,255,255)\"/><rect x=\"110\" y=\"0\" width=\"55\" height=\"55\" style=\"fill:#ca9232;stroke-width:2;stroke:rgb(255,255,255)\"/><rect x=\"165\" y=\"0\" width=\"55\" height=\"55\" style=\"fill:#ae9d31;stroke-width:2;stroke:rgb(255,255,255)\"/><rect x=\"220\" y=\"0\" width=\"55\" height=\"55\" style=\"fill:#8ea631;stroke-width:2;stroke:rgb(255,255,255)\"/><rect x=\"275\" y=\"0\" width=\"55\" height=\"55\" style=\"fill:#50b131;stroke-width:2;stroke:rgb(255,255,255)\"/><rect x=\"330\" y=\"0\" width=\"55\" height=\"55\" style=\"fill:#33b07a;stroke-width:2;stroke:rgb(255,255,255)\"/><rect x=\"385\" y=\"0\" width=\"55\" height=\"55\" style=\"fill:#35ae99;stroke-width:2;stroke:rgb(255,255,255)\"/><rect x=\"440\" y=\"0\" width=\"55\" height=\"55\" style=\"fill:#36acae;stroke-width:2;stroke:rgb(255,255,255)\"/><rect x=\"495\" y=\"0\" width=\"55\" height=\"55\" style=\"fill:#38a9c5;stroke-width:2;stroke:rgb(255,255,255)\"/><rect x=\"550\" y=\"0\" width=\"55\" height=\"55\" style=\"fill:#3ba3ec;stroke-width:2;stroke:rgb(255,255,255)\"/><rect x=\"605\" y=\"0\" width=\"55\" height=\"55\" style=\"fill:#9591f4;stroke-width:2;stroke:rgb(255,255,255)\"/><rect x=\"660\" y=\"0\" width=\"55\" height=\"55\" style=\"fill:#cc7af4;stroke-width:2;stroke:rgb(255,255,255)\"/><rect x=\"715\" y=\"0\" width=\"55\" height=\"55\" style=\"fill:#f560e4;stroke-width:2;stroke:rgb(255,255,255)\"/><rect x=\"770\" y=\"0\" width=\"55\" height=\"55\" style=\"fill:#f66ab7;stroke-width:2;stroke:rgb(255,255,255)\"/></svg>"
      ],
      "text/plain": [
       "[(0.9677975592919913, 0.44127456009157356, 0.5358103155058701),\n",
       " (0.9542900080364486, 0.4779505175890752, 0.1963917622115608),\n",
       " (0.7930046244373694, 0.5708100522446624, 0.19489531984381053),\n",
       " (0.6804189127793346, 0.6151497514677574, 0.19405452111445337),\n",
       " (0.5571803870240879, 0.6507747739933957, 0.19331667588333168),\n",
       " (0.3126890019504329, 0.6928754610296064, 0.1923704830330379),\n",
       " (0.20125317221201128, 0.6907920815379025, 0.47966761189275336),\n",
       " (0.20774052347943134, 0.6813852191365138, 0.6002900398972028),\n",
       " (0.21316806282417172, 0.6731234926210208, 0.6838056741516414),\n",
       " (0.21979956608283252, 0.6625157876850336, 0.7732093159317208),\n",
       " (0.23299120924703914, 0.639586552066035, 0.9260706093977744),\n",
       " (0.5830408541921136, 0.5695319215803094, 0.9583591966369759),\n",
       " (0.8004936186423958, 0.47703363533737203, 0.9579547196007522),\n",
       " (0.959647907830888, 0.3748291312853892, 0.893004453766301),\n",
       " (0.9642903119819891, 0.41420146582831974, 0.7188681186026104)]"
      ]
     },
     "execution_count": 4,
     "metadata": {},
     "output_type": "execute_result"
    }
   ],
   "source": [
    "sns.color_palette(\"husl\", 15)"
   ]
  },
  {
   "cell_type": "markdown",
   "id": "c2d94cfc-571b-440b-b4be-f244ff73868e",
   "metadata": {},
   "source": [
    "When seaborn needs a categorical palette with more colors than are available in the current default, it will use this approach. "
   ]
  },
  {
   "cell_type": "markdown",
   "id": "417f60fb-4f6e-42ab-8c1e-44af78d435a9",
   "metadata": {},
   "source": [
    "### Using categorical color brewer palettes\n",
    "\n",
    "Another source of visually pleasing categorical palettes comes from the [Color Brewer](https://colorbrewer2.org/) tool which also has sequential and diverging palettes, as we'll see below. "
   ]
  },
  {
   "cell_type": "code",
   "execution_count": 5,
   "id": "872e6b4b-343d-4066-866b-98a55df37402",
   "metadata": {},
   "outputs": [
    {
     "data": {
      "text/html": [
       "<svg  width=\"440\" height=\"55\"><rect x=\"0\" y=\"0\" width=\"55\" height=\"55\" style=\"fill:#66c2a5;stroke-width:2;stroke:rgb(255,255,255)\"/><rect x=\"55\" y=\"0\" width=\"55\" height=\"55\" style=\"fill:#fc8d62;stroke-width:2;stroke:rgb(255,255,255)\"/><rect x=\"110\" y=\"0\" width=\"55\" height=\"55\" style=\"fill:#8da0cb;stroke-width:2;stroke:rgb(255,255,255)\"/><rect x=\"165\" y=\"0\" width=\"55\" height=\"55\" style=\"fill:#e78ac3;stroke-width:2;stroke:rgb(255,255,255)\"/><rect x=\"220\" y=\"0\" width=\"55\" height=\"55\" style=\"fill:#a6d854;stroke-width:2;stroke:rgb(255,255,255)\"/><rect x=\"275\" y=\"0\" width=\"55\" height=\"55\" style=\"fill:#ffd92f;stroke-width:2;stroke:rgb(255,255,255)\"/><rect x=\"330\" y=\"0\" width=\"55\" height=\"55\" style=\"fill:#e5c494;stroke-width:2;stroke:rgb(255,255,255)\"/><rect x=\"385\" y=\"0\" width=\"55\" height=\"55\" style=\"fill:#b3b3b3;stroke-width:2;stroke:rgb(255,255,255)\"/></svg>"
      ],
      "text/plain": [
       "[(0.4, 0.7607843137254902, 0.6470588235294118),\n",
       " (0.9882352941176471, 0.5529411764705883, 0.3843137254901961),\n",
       " (0.5529411764705883, 0.6274509803921569, 0.796078431372549),\n",
       " (0.9058823529411765, 0.5411764705882353, 0.7647058823529411),\n",
       " (0.6509803921568628, 0.8470588235294118, 0.32941176470588235),\n",
       " (1.0, 0.8509803921568627, 0.1843137254901961),\n",
       " (0.8980392156862745, 0.7686274509803922, 0.5803921568627451),\n",
       " (0.7019607843137254, 0.7019607843137254, 0.7019607843137254)]"
      ]
     },
     "execution_count": 5,
     "metadata": {},
     "output_type": "execute_result"
    }
   ],
   "source": [
    "sns.color_palette(\"Set2\")"
   ]
  },
  {
   "cell_type": "markdown",
   "id": "4602bde6-8ab2-4e72-a1c7-c4a5c3202c34",
   "metadata": {},
   "source": [
    "Be aware that the qualitative Color Brewer palettes have different lengths, and the default behaviour of `color_palette()` is to give you the full list:"
   ]
  },
  {
   "cell_type": "code",
   "execution_count": 6,
   "id": "d273efbd-69fc-469b-b082-5da5ee5f1ed7",
   "metadata": {},
   "outputs": [
    {
     "data": {
      "text/html": [
       "<svg  width=\"660\" height=\"55\"><rect x=\"0\" y=\"0\" width=\"55\" height=\"55\" style=\"fill:#a6cee3;stroke-width:2;stroke:rgb(255,255,255)\"/><rect x=\"55\" y=\"0\" width=\"55\" height=\"55\" style=\"fill:#1f78b4;stroke-width:2;stroke:rgb(255,255,255)\"/><rect x=\"110\" y=\"0\" width=\"55\" height=\"55\" style=\"fill:#b2df8a;stroke-width:2;stroke:rgb(255,255,255)\"/><rect x=\"165\" y=\"0\" width=\"55\" height=\"55\" style=\"fill:#33a02c;stroke-width:2;stroke:rgb(255,255,255)\"/><rect x=\"220\" y=\"0\" width=\"55\" height=\"55\" style=\"fill:#fb9a99;stroke-width:2;stroke:rgb(255,255,255)\"/><rect x=\"275\" y=\"0\" width=\"55\" height=\"55\" style=\"fill:#e31a1c;stroke-width:2;stroke:rgb(255,255,255)\"/><rect x=\"330\" y=\"0\" width=\"55\" height=\"55\" style=\"fill:#fdbf6f;stroke-width:2;stroke:rgb(255,255,255)\"/><rect x=\"385\" y=\"0\" width=\"55\" height=\"55\" style=\"fill:#ff7f00;stroke-width:2;stroke:rgb(255,255,255)\"/><rect x=\"440\" y=\"0\" width=\"55\" height=\"55\" style=\"fill:#cab2d6;stroke-width:2;stroke:rgb(255,255,255)\"/><rect x=\"495\" y=\"0\" width=\"55\" height=\"55\" style=\"fill:#6a3d9a;stroke-width:2;stroke:rgb(255,255,255)\"/><rect x=\"550\" y=\"0\" width=\"55\" height=\"55\" style=\"fill:#ffff99;stroke-width:2;stroke:rgb(255,255,255)\"/><rect x=\"605\" y=\"0\" width=\"55\" height=\"55\" style=\"fill:#b15928;stroke-width:2;stroke:rgb(255,255,255)\"/></svg>"
      ],
      "text/plain": [
       "[(0.6509803921568628, 0.807843137254902, 0.8901960784313725),\n",
       " (0.12156862745098039, 0.47058823529411764, 0.7058823529411765),\n",
       " (0.6980392156862745, 0.8745098039215686, 0.5411764705882353),\n",
       " (0.2, 0.6274509803921569, 0.17254901960784313),\n",
       " (0.984313725490196, 0.6039215686274509, 0.6),\n",
       " (0.8901960784313725, 0.10196078431372549, 0.10980392156862745),\n",
       " (0.9921568627450981, 0.7490196078431373, 0.43529411764705883),\n",
       " (1.0, 0.4980392156862745, 0.0),\n",
       " (0.792156862745098, 0.6980392156862745, 0.8392156862745098),\n",
       " (0.41568627450980394, 0.23921568627450981, 0.6039215686274509),\n",
       " (1.0, 1.0, 0.6),\n",
       " (0.6941176470588235, 0.34901960784313724, 0.1568627450980392)]"
      ]
     },
     "execution_count": 6,
     "metadata": {},
     "output_type": "execute_result"
    }
   ],
   "source": [
    "sns.color_palette(\"Paired\")"
   ]
  },
  {
   "cell_type": "markdown",
   "id": "a099681b-8203-4072-be7d-cd198d5caa02",
   "metadata": {},
   "source": [
    "## Sequential color palettes\n",
    "\n",
    "The second major class of color palettes is called \"sequential\". This kind of mapping is appropriate when data range from relatively low or uninteresting values (vice versa). As we saw above, the primary dimension of variation in a sequential palette is luminance. Some seaborn functions will default to a sequential palette when you are mapping numeric data. \n",
    "\n",
    "For historical reasons, both categorical and numeric mappings are specified with the `hue` parameter in functions like `relplot()` or `displot()`, even though numeric mappings use color palettes with relatively little hue variation."
   ]
  },
  {
   "cell_type": "markdown",
   "id": "4be811e8-d1fc-4dfd-aa42-5a5dffff9821",
   "metadata": {},
   "source": [
    "### Perceptually uniform palettes \n",
    "\n",
    "Seaborn includes four perceptually uniform sequential colormaps: `\"rocket\"`, `\"mako\"`, `\"flare\"`, and `\"crest\"`. The first two has a very wide luminance range and are well suited for applications such as heatmaps, where colors fill the space they are plotted into:"
   ]
  },
  {
   "cell_type": "code",
   "execution_count": 7,
   "id": "05eceee3-62b6-4948-a5b7-72047a944b60",
   "metadata": {},
   "outputs": [
    {
     "data": {
      "image/png": "[encoded data removed]",
      "text/html": [
       "<div style=\"vertical-align: middle;\"><strong>rocket</strong> </div><div class=\"cmap\"><img alt=\"rocket colormap\" title=\"rocket\" style=\"border: 1px solid #555;\" src=\"data:image/png;base64,iVBORw0KGgoAAAANSUhEUgAAAgAAAABACAYAAABsv8+/AAAAFXRFWHRUaXRsZQByb2NrZXQgY29sb3JtYXCDKv+2AAAAG3RFWHREZXNjcmlwdGlvbgByb2NrZXQgY29sb3JtYXDKvedSAAAAMHRFWHRBdXRob3IATWF0cGxvdGxpYiB2My44LjQsIGh0dHBzOi8vbWF0cGxvdGxpYi5vcmdkzrK0AAAAMnRFWHRTb2Z0d2FyZQBNYXRwbG90bGliIHYzLjguNCwgaHR0cHM6Ly9tYXRwbG90bGliLm9yZ0poLZMAAAITSURBVHic7dZLVuwgAEVRoJyE8x8odpJyBUIR7d69Oy7+8fkap7av715KKbXWUkoptRw/j3HbzZ/jzblx/2p+uqdszv13/PSd1b7h3tX87z3l2fcc+9rTe8Zz0/eUj+P5vsX++tfzx3xfzK/2L+8/5ntZnBvu6+N943fdz+/Otd7v16dz/fN90z19+H1W8/3zfL3fd/z5Sqv9fv85Xzfz7XrfPD+sj/Nt+I7Feh3faffrZbl+/MMs58dxvY7f99Zh/3X8e65exrv55fr7D9UW+9qj/ee4btZ358/1+l5fnfvv/Ord1b7rzzrt273zenb/9v37e+bvefre65jevf/03fv94/3nf2MAIIgAAIBAAgAAAgkAAAgkAAAgkAAAgEACAAACCQAACCQAACCQAACAQAIAAAIJAAAIJAAAIJAAAIBAAgAAAgkAAAgkAAAgkAAAgEACAAACCQAACCQAACCQAACAQAIAAAIJAAAIJAAAIJAAAIBAAgAAAgkAAAgkAAAgkAAAgEACAAACCQAACCQAACCQAACAQAIAAAIJAAAIJAAAIJAAAIBAAgAAAgkAAAgkAAAgkAAAgEACAAACCQAACCQAACCQAACAQAIAAAIJAAAIJAAAIJAAAIBAAgAAAgkAAAgkAAAgkAAAgEACAAACCQAACCQAACCQAACAQAIAAAIJAAAIJAAAIJAAAIBAAgAAAv0AU3UrP5ppht0AAAAASUVORK5CYII=\"></div><div style=\"vertical-align: middle; max-width: 514px; display: flex; justify-content: space-between;\"><div style=\"float: left;\"><div title=\"#03051aff\" style=\"display: inline-block; width: 1em; height: 1em; margin: 0; vertical-align: middle; border: 1px solid #555; background-color: #03051aff;\"></div> under</div><div style=\"margin: 0 auto; display: inline-block;\">bad <div title=\"#00000000\" style=\"display: inline-block; width: 1em; height: 1em; margin: 0; vertical-align: middle; border: 1px solid #555; background-color: #00000000;\"></div></div><div style=\"float: right;\">over <div title=\"#faebddff\" style=\"display: inline-block; width: 1em; height: 1em; margin: 0; vertical-align: middle; border: 1px solid #555; background-color: #faebddff;\"></div></div>"
      ],
      "text/plain": [
       "<matplotlib.colors.ListedColormap at 0x7f138a689ae0>"
      ]
     },
     "execution_count": 7,
     "metadata": {},
     "output_type": "execute_result"
    }
   ],
   "source": [
    "sns.color_palette(\"rocket\", as_cmap=True)"
   ]
  },
  {
   "cell_type": "code",
   "execution_count": 8,
   "id": "51125138-81f8-4afd-9dbe-4e5c3431c193",
   "metadata": {},
   "outputs": [
    {
     "data": {
      "text/html": [
       "<svg  width=\"330\" height=\"55\"><rect x=\"0\" y=\"0\" width=\"55\" height=\"55\" style=\"fill:#2e1e3b;stroke-width:2;stroke:rgb(255,255,255)\"/><rect x=\"55\" y=\"0\" width=\"55\" height=\"55\" style=\"fill:#413d7b;stroke-width:2;stroke:rgb(255,255,255)\"/><rect x=\"110\" y=\"0\" width=\"55\" height=\"55\" style=\"fill:#37659e;stroke-width:2;stroke:rgb(255,255,255)\"/><rect x=\"165\" y=\"0\" width=\"55\" height=\"55\" style=\"fill:#348fa7;stroke-width:2;stroke:rgb(255,255,255)\"/><rect x=\"220\" y=\"0\" width=\"55\" height=\"55\" style=\"fill:#40b7ad;stroke-width:2;stroke:rgb(255,255,255)\"/><rect x=\"275\" y=\"0\" width=\"55\" height=\"55\" style=\"fill:#8bdab2;stroke-width:2;stroke:rgb(255,255,255)\"/></svg>"
      ],
      "text/plain": [
       "[(0.18195582, 0.11955283, 0.23136943),\n",
       " (0.25307401, 0.23772973, 0.48316271),\n",
       " (0.21607792, 0.39736958, 0.61948028),\n",
       " (0.20344718, 0.56074869, 0.65649508),\n",
       " (0.25187832, 0.71827158, 0.67872193),\n",
       " (0.54578602, 0.8544913, 0.69848331)]"
      ]
     },
     "execution_count": 8,
     "metadata": {},
     "output_type": "execute_result"
    }
   ],
   "source": [
    "sns.color_palette(\"mako\", as_cmap=False)"
   ]
  },
  {
   "cell_type": "markdown",
   "id": "a7353f03-45c9-4ab1-afc2-a372dc13cbf8",
   "metadata": {},
   "source": [
    "__What does `as_cmap=True` mean?__"
   ]
  },
  {
   "cell_type": "markdown",
   "id": "62d06953-3bd4-457d-9655-b38f2c7dcd83",
   "metadata": {},
   "source": [
    "Because the extreme values of these colormaps approach white, they are not well-suited for coloring elements such as lines or points: it will be difficult to discriminate important values against a white or grey background. \n",
    "\n",
    "The \"flare\" and \"crest\" colormaps are a better choice for such plots. They have a more restricted range of luminance variations, which they compensate for with a slightly more pronounced variation in hue."
   ]
  },
  {
   "cell_type": "code",
   "execution_count": 9,
   "id": "42d2108c-05be-4818-87fa-b8cf2d7f42aa",
   "metadata": {},
   "outputs": [
    {
     "data": {
      "image/png": "[encoded data removed]",
      "text/html": [
       "<div style=\"vertical-align: middle;\"><strong>flare</strong> </div><div class=\"cmap\"><img alt=\"flare colormap\" title=\"flare\" style=\"border: 1px solid #555;\" src=\"data:image/png;base64,iVBORw0KGgoAAAANSUhEUgAAAgAAAABACAYAAABsv8+/AAAAFHRFWHRUaXRsZQBmbGFyZSBjb2xvcm1hcPBwCaYAAAAadEVYdERlc2NyaXB0aW9uAGZsYXJlIGNvbG9ybWFwDi+gQAAAADB0RVh0QXV0aG9yAE1hdHBsb3RsaWIgdjMuOC40LCBodHRwczovL21hdHBsb3RsaWIub3JnZM6ytAAAADJ0RVh0U29mdHdhcmUATWF0cGxvdGxpYiB2My44LjQsIGh0dHBzOi8vbWF0cGxvdGxpYi5vcmdKaC2TAAAB4UlEQVR4nO3WQXKDMBBFwSEnz41ysdxBWcQhBXgssL373RsKNBbCq7d8f32Oqqoav5e6Xfr7yVxt58ar+zX3403n7fc5e47Xvuf8d2xvp3PVzXXnn73v7Prjc87nHz9v52q59LsxbvP7Y65zy/b+MHf/9+vvTs63z2vZ3Xf7N++ryb4n3/d/bc7TnWN/fXm9Of9h/U/3ne/Zv1uv9fmz77+2XpP10/s/Obe+/7Zyfb9xbW667/Zgx/nmnOtct969//78+v7Zfofv6P7H7fP//a/9bn/+jwIA4ggAAAgkAAAgkAAAgEACAAACCQAACCQAACCQAACAQAIAAAIJAAAIJAAAIJAAAIBAAgAAAgkAAAgkAAAgkAAAgEACAAACCQAACCQAACCQAACAQAIAAAIJAAAIJAAAIJAAAIBAAgAAAgkAAAgkAAAgkAAAgEACAAACCQAACCQAACCQAACAQAIAAAIJAAAIJAAAIJAAAIBAAgAAAgkAAAgkAAAgkAAAgEACAAACCQAACCQAACCQAACAQAIAAAIJAAAIJAAAIJAAAIBAAgAAAgkAAAgkAAAgkAAAgEACAAACCQAACCQAACCQAACAQAIAAAIJAAAIJAAAIJAAAIBAAgAAAgkAAAgkAAAg0A/eZmRcQvs67gAAAABJRU5ErkJggg==\"></div><div style=\"vertical-align: middle; max-width: 514px; display: flex; justify-content: space-between;\"><div style=\"float: left;\"><div title=\"#edb081ff\" style=\"display: inline-block; width: 1em; height: 1em; margin: 0; vertical-align: middle; border: 1px solid #555; background-color: #edb081ff;\"></div> under</div><div style=\"margin: 0 auto; display: inline-block;\">bad <div title=\"#00000000\" style=\"display: inline-block; width: 1em; height: 1em; margin: 0; vertical-align: middle; border: 1px solid #555; background-color: #00000000;\"></div></div><div style=\"float: right;\">over <div title=\"#4b2362ff\" style=\"display: inline-block; width: 1em; height: 1em; margin: 0; vertical-align: middle; border: 1px solid #555; background-color: #4b2362ff;\"></div></div>"
      ],
      "text/plain": [
       "<matplotlib.colors.ListedColormap at 0x7f138a6e0820>"
      ]
     },
     "execution_count": 9,
     "metadata": {},
     "output_type": "execute_result"
    }
   ],
   "source": [
    "sns.color_palette(\"flare\", as_cmap=True)"
   ]
  },
  {
   "cell_type": "code",
   "execution_count": 10,
   "id": "241f19a5-3ce5-4b2d-b322-f58711d91493",
   "metadata": {},
   "outputs": [
    {
     "data": {
      "image/png": "[encoded data removed]",
      "text/html": [
       "<div style=\"vertical-align: middle;\"><strong>crest</strong> </div><div class=\"cmap\"><img alt=\"crest colormap\" title=\"crest\" style=\"border: 1px solid #555;\" src=\"data:image/png;base64,iVBORw0KGgoAAAANSUhEUgAAAgAAAABACAYAAABsv8+/AAAAFHRFWHRUaXRsZQBjcmVzdCBjb2xvcm1hcDDWw8gAAAAadEVYdERlc2NyaXB0aW9uAGNyZXN0IGNvbG9ybWFwzolqLgAAADB0RVh0QXV0aG9yAE1hdHBsb3RsaWIgdjMuOC40LCBodHRwczovL21hdHBsb3RsaWIub3JnZM6ytAAAADJ0RVh0U29mdHdhcmUATWF0cGxvdGxpYiB2My44LjQsIGh0dHBzOi8vbWF0cGxvdGxpYi5vcmdKaC2TAAAB3UlEQVR4nO3WMXLbMBRAQcj3L3KIHCdnMlPEyoxBIWBkjZu320igwU/IbN7t568fxxhjHOOP4+PLdv3x+X7ad/u/OdP6PO9V57qvj+85x2L9fjx33249vjp3cX3M+zb3jc2++1+e/T37+a+Zd77++QGvn//4/Pcv2/dy9fdvz7H4navzPXuO077j4r6r8xbr1XOm9fL6ad7jQfPz5/vn55xfxG7/dJDF/tvT+x+f57aZ8/f+0wv49/zVOXfn38+7dv3y85bvabp/+X9e7JuONV9fz12c5+L9bwMAyBEAABAkAAAgSAAAQJAAAIAgAQAAQQIAAIIEAAAECQAACBIAABAkAAAgSAAAQJAAAIAgAQAAQQIAAIIEAAAECQAACBIAABAkAAAgSAAAQJAAAIAgAQAAQQIAAIIEAAAECQAACBIAABAkAAAgSAAAQJAAAIAgAQAAQQIAAIIEAAAECQAACBIAABAkAAAgSAAAQJAAAIAgAQAAQQIAAIIEAAAECQAACBIAABAkAAAgSAAAQJAAAIAgAQAAQQIAAIIEAAAECQAACBIAABAkAAAgSAAAQJAAAIAgAQAAQQIAAIIEAAAECQAACBIAABAkAAAgSAAAQJAAAIAgAQAAQQIAAIJ+A9tsQVtfMWhrAAAAAElFTkSuQmCC\"></div><div style=\"vertical-align: middle; max-width: 514px; display: flex; justify-content: space-between;\"><div style=\"float: left;\"><div title=\"#a5cd90ff\" style=\"display: inline-block; width: 1em; height: 1em; margin: 0; vertical-align: middle; border: 1px solid #555; background-color: #a5cd90ff;\"></div> under</div><div style=\"margin: 0 auto; display: inline-block;\">bad <div title=\"#00000000\" style=\"display: inline-block; width: 1em; height: 1em; margin: 0; vertical-align: middle; border: 1px solid #555; background-color: #00000000;\"></div></div><div style=\"float: right;\">over <div title=\"#2c3172ff\" style=\"display: inline-block; width: 1em; height: 1em; margin: 0; vertical-align: middle; border: 1px solid #555; background-color: #2c3172ff;\"></div></div>"
      ],
      "text/plain": [
       "<matplotlib.colors.ListedColormap at 0x7f138a6e0af0>"
      ]
     },
     "execution_count": 10,
     "metadata": {},
     "output_type": "execute_result"
    }
   ],
   "source": [
    "sns.color_palette(\"crest\", as_cmap=True)"
   ]
  },
  {
   "cell_type": "markdown",
   "id": "8ea3cab9-c1f7-4082-a522-bb79dcb292d7",
   "metadata": {},
   "source": [
    "It is also possible to use the perceptually uniform colormaps provided by matplotlib, such as `\"magma\"` and `\"viridis\"`:"
   ]
  },
  {
   "cell_type": "code",
   "execution_count": 11,
   "id": "e55b89fd-e859-4502-b684-6453205a3475",
   "metadata": {},
   "outputs": [
    {
     "data": {
      "image/png": "[encoded data removed]",
      "text/html": [
       "<div style=\"vertical-align: middle;\"><strong>magma</strong> </div><div class=\"cmap\"><img alt=\"magma colormap\" title=\"magma\" style=\"border: 1px solid #555;\" src=\"data:image/png;base64,iVBORw0KGgoAAAANSUhEUgAAAgAAAABACAYAAABsv8+/AAAAFHRFWHRUaXRsZQBtYWdtYSBjb2xvcm1hcCO8Z6IAAAAadEVYdERlc2NyaXB0aW9uAG1hZ21hIGNvbG9ybWFw3ePORAAAADB0RVh0QXV0aG9yAE1hdHBsb3RsaWIgdjMuOC40LCBodHRwczovL21hdHBsb3RsaWIub3JnZM6ytAAAADJ0RVh0U29mdHdhcmUATWF0cGxvdGxpYiB2My44LjQsIGh0dHBzOi8vbWF0cGxvdGxpYi5vcmdKaC2TAAACNUlEQVR4nO3WS5KjMBAFwJL6/mdmFg12UCDsnu3L3DhUKn2wCccbVT9bVVXV+P2ouY/28Zjn+mI89nG1cZ9/jV/1n/v6ct3PbX3W8/xxzuzn1rG+3aPXl+NFfWv3Os5/9f9+v2Pr+7T5Nu6fY1Ufva/25+999Tiex2vwWlfnvmO+99d5/ji319/n9X3v+9fnP4+/7fu8bvvuXpfx9nzOPt/Xv/tX63v9PH7fY2v79ue4H1/3Pe8zPvUt6u/fbzvv07+HPn8Zn+9x7ev33Otza+vqVL+sn/fjutTbfc5/i8v+uvTVqe940HX/aPX7F230F6O96J/mjwuNXv/42R7oct58Xj/6/Kp//nHdqv9c3+Z9fdVfX/fPtv9z3//vO2/7jp8ZAAgiAABAIAEAAAIJAAAQSAAAgEACAAAEEgAAIJAAAACBBAAACCQAAEAgAQAAAgkAABBIAACAQAIAAAQSAAAgkAAAAIEEAAAIJAAAQCABAAACCQAAEEgAAIBAAgAABBIAACCQAAAAgQQAAAgkAABAIAEAAAIJAAAQSAAAgEACAAAEEgAAIJAAAACBBAAACCQAAEAgAQAAAgkAABBIAACAQAIAAAQSAAAgkAAAAIEEAAAIJAAAQCABAAACCQAAEEgAAIBAAgAABBIAACCQAAAAgQQAAAgkAABAIAEAAAIJAAAQSAAAgEACAAAEEgAAIJAAAACBBAAACCQAAEAgAQAAAgkAABBIAACAQAIAAAQSAAAg0D8FVi814EhgQgAAAABJRU5ErkJggg==\"></div><div style=\"vertical-align: middle; max-width: 514px; display: flex; justify-content: space-between;\"><div style=\"float: left;\"><div title=\"#000004ff\" style=\"display: inline-block; width: 1em; height: 1em; margin: 0; vertical-align: middle; border: 1px solid #555; background-color: #000004ff;\"></div> under</div><div style=\"margin: 0 auto; display: inline-block;\">bad <div title=\"#00000000\" style=\"display: inline-block; width: 1em; height: 1em; margin: 0; vertical-align: middle; border: 1px solid #555; background-color: #00000000;\"></div></div><div style=\"float: right;\">over <div title=\"#fcfdbfff\" style=\"display: inline-block; width: 1em; height: 1em; margin: 0; vertical-align: middle; border: 1px solid #555; background-color: #fcfdbfff;\"></div></div>"
      ],
      "text/plain": [
       "<matplotlib.colors.ListedColormap at 0x7f138a6e1270>"
      ]
     },
     "execution_count": 11,
     "metadata": {},
     "output_type": "execute_result"
    }
   ],
   "source": [
    "sns.color_palette(\"magma\", as_cmap=True)"
   ]
  },
  {
   "cell_type": "code",
   "execution_count": 12,
   "id": "0df420a8-7096-46a4-928d-4b2c8d0b7f98",
   "metadata": {},
   "outputs": [
    {
     "data": {
      "image/png": "[encoded data removed]",
      "text/html": [
       "<div style=\"vertical-align: middle;\"><strong>viridis</strong> </div><div class=\"cmap\"><img alt=\"viridis colormap\" title=\"viridis\" style=\"border: 1px solid #555;\" src=\"data:image/png;base64,iVBORw0KGgoAAAANSUhEUgAAAgAAAABACAYAAABsv8+/AAAAFnRFWHRUaXRsZQB2aXJpZGlzIGNvbG9ybWFwrE0mCwAAABx0RVh0RGVzY3JpcHRpb24AdmlyaWRpcyBjb2xvcm1hcAtjl3IAAAAwdEVYdEF1dGhvcgBNYXRwbG90bGliIHYzLjguNCwgaHR0cHM6Ly9tYXRwbG90bGliLm9yZ2TOsrQAAAAydEVYdFNvZnR3YXJlAE1hdHBsb3RsaWIgdjMuOC40LCBodHRwczovL21hdHBsb3RsaWIub3JnSmgtkwAAAiJJREFUeJzt1kGSmzAURdEv2FqWkP0vJfQgMhQCGceV2Ttn4pL0EVQPum771X5vVVXVWv39XfrPeV193V5zS98f1sf5/fPjey73zu6/3Hv/uz2cz57f9vP68rxO9+/zre7nhvvG+et6vH92bw3PDfcsD+eX59+/53n96f3362/f87/vf5yr93Of72/fPV9P89tX3zGeH3OT8/07Zs+/32+TuXZZD8/VODf8W5uuH/b7vctlfuv7NazH8/t7ZnP7bz2cD3NL+/Ph3Hl+/efz83vWun/vuL++nquH9eu9w/uu6/vvOO49f/8xf77vOj+8b7Y/fMfse9ca/y7nv+d62a++X+f1vt+G/b7u+/u6TxzzS//tc2053QMABBEAABBIAABAIAEAAIEEAAAEEgAAEEgAAEAgAQAAgQQAAAQSAAAQSAAAQCABAACBBAAABBIAABBIAABAIAEAAIEEAAAEEgAAEEgAAEAgAQAAgQQAAAQSAAAQSAAAQCABAACBBAAABBIAABBIAABAIAEAAIEEAAAEEgAAEEgAAEAgAQAAgQQAAAQSAAAQSAAAQCABAACBBAAABBIAABBIAABAIAEAAIEEAAAEEgAAEEgAAEAgAQAAgQQAAAQSAAAQSAAAQCABAACBBAAABBIAABBIAABAIAEAAIEEAAAEEgAAEEgAAEAgAQAAgQQAAAQSAAAQSAAAQCABAACBBAAABBIAABBIAABAoB9ucImHxcKZtAAAAABJRU5ErkJggg==\"></div><div style=\"vertical-align: middle; max-width: 514px; display: flex; justify-content: space-between;\"><div style=\"float: left;\"><div title=\"#440154ff\" style=\"display: inline-block; width: 1em; height: 1em; margin: 0; vertical-align: middle; border: 1px solid #555; background-color: #440154ff;\"></div> under</div><div style=\"margin: 0 auto; display: inline-block;\">bad <div title=\"#00000000\" style=\"display: inline-block; width: 1em; height: 1em; margin: 0; vertical-align: middle; border: 1px solid #555; background-color: #00000000;\"></div></div><div style=\"float: right;\">over <div title=\"#fde725ff\" style=\"display: inline-block; width: 1em; height: 1em; margin: 0; vertical-align: middle; border: 1px solid #555; background-color: #fde725ff;\"></div></div>"
      ],
      "text/plain": [
       "<matplotlib.colors.ListedColormap at 0x7f138a6e1600>"
      ]
     },
     "execution_count": 12,
     "metadata": {},
     "output_type": "execute_result"
    }
   ],
   "source": [
    "sns.color_palette(\"viridis\", as_cmap=True)"
   ]
  },
  {
   "cell_type": "markdown",
   "id": "83e380ca-6250-403e-9f81-7fda3d50da2c",
   "metadata": {},
   "source": [
    "As with the convention in matplotlib, every continuous colormap has a reversed version, which has the suffix `\"_r\"`:"
   ]
  },
  {
   "cell_type": "code",
   "execution_count": 13,
   "id": "6f02002b-e821-4f5a-91d1-9dbe7a4d6003",
   "metadata": {},
   "outputs": [
    {
     "data": {
      "image/png": "[encoded data removed]",
      "text/html": [
       "<div style=\"vertical-align: middle;\"><strong>rocket_r</strong> </div><div class=\"cmap\"><img alt=\"rocket_r colormap\" title=\"rocket_r\" style=\"border: 1px solid #555;\" src=\"data:image/png;base64,iVBORw0KGgoAAAANSUhEUgAAAgAAAABACAYAAABsv8+/AAAAF3RFWHRUaXRsZQByb2NrZXRfciBjb2xvcm1hcJpUNvwAAAAddEVYdERlc2NyaXB0aW9uAHJvY2tldF9yIGNvbG9ybWFwsyrR1QAAADB0RVh0QXV0aG9yAE1hdHBsb3RsaWIgdjMuOC40LCBodHRwczovL21hdHBsb3RsaWIub3JnZM6ytAAAADJ0RVh0U29mdHdhcmUATWF0cGxvdGxpYiB2My44LjQsIGh0dHBzOi8vbWF0cGxvdGxpYi5vcmdKaC2TAAACGElEQVR4nO3WS1LDMBBFUZn9L5EVsASqcDMgH9KK7GT8zpmk3JKlkGJwt++vzxpjjFH75ePv8/o89p/2fNnXns/2z+f/LN5vz23f6b1n550+L77/bV8df59X79vrrXvenddyfx2+19fr5ff7/c/nff+877X1eT7avD23n/t+zmj7+77t6bwu8/u5fd/28OdO67U9zPc6Xr+dc5nvt/nj+jy/nj+O56N9j9vPuLX1tn8s9k3zcTzfHt+7z1f7x2J/v391XltfzZf31dP97d/i33ot5sfn1baYT/vb+dXvq/feXzyvzu3nVdu/Pr+fe3zOff14XtO9i/li33Tum8+n99TJe6vzz845ea/f8zEAgDgCAAACCQAACCQAACCQAACAQAIAAAIJAAAIJAAAIJAAAIBAAgAAAgkAAAgkAAAgkAAAgEACAAACCQAACCQAACCQAACAQAIAAAIJAAAIJAAAIJAAAIBAAgAAAgkAAAgkAAAgkAAAgEACAAACCQAACCQAACCQAACAQAIAAAIJAAAIJAAAIJAAAIBAAgAAAgkAAAgkAAAgkAAAgEACAAACCQAACCQAACCQAACAQAIAAAIJAAAIJAAAIJAAAIBAAgAAAgkAAAgkAAAgkAAAgEACAAACCQAACCQAACCQAACAQAIAAAIJAAAIJAAAIJAAAIBAAgAAAgkAAAgkAAAgkAAAgEACAAACCQAACPQLCuHnrXlmjLcAAAAASUVORK5CYII=\"></div><div style=\"vertical-align: middle; max-width: 514px; display: flex; justify-content: space-between;\"><div style=\"float: left;\"><div title=\"#faebddff\" style=\"display: inline-block; width: 1em; height: 1em; margin: 0; vertical-align: middle; border: 1px solid #555; background-color: #faebddff;\"></div> under</div><div style=\"margin: 0 auto; display: inline-block;\">bad <div title=\"#00000000\" style=\"display: inline-block; width: 1em; height: 1em; margin: 0; vertical-align: middle; border: 1px solid #555; background-color: #00000000;\"></div></div><div style=\"float: right;\">over <div title=\"#03051aff\" style=\"display: inline-block; width: 1em; height: 1em; margin: 0; vertical-align: middle; border: 1px solid #555; background-color: #03051aff;\"></div></div>"
      ],
      "text/plain": [
       "<matplotlib.colors.ListedColormap at 0x7f138a6e0f10>"
      ]
     },
     "execution_count": 13,
     "metadata": {},
     "output_type": "execute_result"
    }
   ],
   "source": [
    "sns.color_palette(\"rocket_r\", as_cmap=True)"
   ]
  },
  {
   "cell_type": "markdown",
   "id": "4ee22ba7-62e7-42f2-b3ee-59cac3444606",
   "metadata": {},
   "source": [
    "## Other color palettes\n",
    "\n",
    "There are many other more color palettes, we will not cover it in very detail here but show some examples:"
   ]
  },
  {
   "cell_type": "markdown",
   "id": "6283265c-d8ac-4265-b119-537dcb97cfc1",
   "metadata": {},
   "source": [
    "### Sequential \"cubehelix\" palettes"
   ]
  },
  {
   "cell_type": "code",
   "execution_count": 14,
   "id": "7a4d7564-d49f-44fb-9581-82a160520b7e",
   "metadata": {},
   "outputs": [
    {
     "data": {
      "image/png": "[encoded data removed]",
      "text/html": [
       "<div style=\"vertical-align: middle;\"><strong>cubehelix</strong> </div><div class=\"cmap\"><img alt=\"cubehelix colormap\" title=\"cubehelix\" style=\"border: 1px solid #555;\" src=\"data:image/png;base64,iVBORw0KGgoAAAANSUhEUgAAAgAAAABACAYAAABsv8+/AAAAGHRFWHRUaXRsZQBjdWJlaGVsaXggY29sb3JtYXDGzLN6AAAAHnRFWHREZXNjcmlwdGlvbgBjdWJlaGVsaXggY29sb3JtYXCEV1XxAAAAMHRFWHRBdXRob3IATWF0cGxvdGxpYiB2My44LjQsIGh0dHBzOi8vbWF0cGxvdGxpYi5vcmdkzrK0AAAAMnRFWHRTb2Z0d2FyZQBNYXRwbG90bGliIHYzLjguNCwgaHR0cHM6Ly9tYXRwbG90bGliLm9yZ0poLZMAAAJbSURBVHic7dZBbuMwEATAIZ3/P3m1h7VkcETFe++qCzFNRoEMmO5RVUdV1ahRVVVzzNrNs975GO+1521957Pnba12/nH/nOd+/3NurPncn6vZz/0+H9c82nPHut/OffJ62O957fNrruXcOR+3/WN5nZ5/nncsr3XOT/m4nrufr//7Xj8f07Fd5/yzzn3/+liP39d6yv95tfx1vtaX+dX/vufX/jmP/f4tH9v855af69znR8/nw/n1+/rZfy3PmS1/muf5dw/5HK91but4ODfqZ8nPc+M2/+z3x/qc6vl7PfN6n7vls83XOrf5Mff7t/z9hTiu/Z7v59u5a3+0vN074yFvc7/f+v3T77Gj3Ve3/Mt99b/5515ZXufr/vUz0O/Bdp+M0c+vz3k6d/s5qId8jDWvff752M7f19GeO9a19vN43J/tOef3FQCIowAAQCAFAAACKQAAEEgBAIBACgAABFIAACCQAgAAgRQAAAikAABAIAUAAAIpAAAQSAEAgEAKAAAEUgAAIJACAACBFAAACKQAAEAgBQAAAikAABBIAQCAQAoAAARSAAAgkAIAAIEUAAAIpAAAQCAFAAACKQAAEEgBAIBACgAABFIAACCQAgAAgRQAAAikAABAIAUAAAIpAAAQSAEAgEAKAAAEUgAAIJACAACBFAAACKQAAEAgBQAAAikAABBIAQCAQAoAAARSAAAgkAIAAIEUAAAIpAAAQCAFAAACKQAAEEgBAIBACgAABFIAACCQAgAAgRQAAAikAABAIAUAAAIpAAAQSAEAgEAKAAAEUgAAINBfhNNDfJBGo8QAAAAASUVORK5CYII=\"></div><div style=\"vertical-align: middle; max-width: 514px; display: flex; justify-content: space-between;\"><div style=\"float: left;\"><div title=\"#000000ff\" style=\"display: inline-block; width: 1em; height: 1em; margin: 0; vertical-align: middle; border: 1px solid #555; background-color: #000000ff;\"></div> under</div><div style=\"margin: 0 auto; display: inline-block;\">bad <div title=\"#00000000\" style=\"display: inline-block; width: 1em; height: 1em; margin: 0; vertical-align: middle; border: 1px solid #555; background-color: #00000000;\"></div></div><div style=\"float: right;\">over <div title=\"#ffffffff\" style=\"display: inline-block; width: 1em; height: 1em; margin: 0; vertical-align: middle; border: 1px solid #555; background-color: #ffffffff;\"></div></div>"
      ],
      "text/plain": [
       "<matplotlib.colors.LinearSegmentedColormap at 0x7f138a6e1f30>"
      ]
     },
     "execution_count": 14,
     "metadata": {},
     "output_type": "execute_result"
    }
   ],
   "source": [
    "sns.color_palette(\"cubehelix\", as_cmap=True)"
   ]
  },
  {
   "cell_type": "code",
   "execution_count": 15,
   "id": "2e812fa9-b2be-45b5-878b-d390e0904341",
   "metadata": {},
   "outputs": [
    {
     "data": {
      "image/png": "[encoded data removed]",
      "text/html": [
       "<div style=\"vertical-align: middle;\"><strong>seaborn_cubehelix</strong> </div><div class=\"cmap\"><img alt=\"seaborn_cubehelix colormap\" title=\"seaborn_cubehelix\" style=\"border: 1px solid #555;\" src=\"data:image/png;base64,iVBORw0KGgoAAAANSUhEUgAAAgAAAABACAYAAABsv8+/AAAAIHRFWHRUaXRsZQBzZWFib3JuX2N1YmVoZWxpeCBjb2xvcm1hcCHoIPcAAAAmdEVYdERlc2NyaXB0aW9uAHNlYWJvcm5fY3ViZWhlbGl4IGNvbG9ybWFwGlvH/wAAADB0RVh0QXV0aG9yAE1hdHBsb3RsaWIgdjMuOC40LCBodHRwczovL21hdHBsb3RsaWIub3JnZM6ytAAAADJ0RVh0U29mdHdhcmUATWF0cGxvdGxpYiB2My44LjQsIGh0dHBzOi8vbWF0cGxvdGxpYi5vcmdKaC2TAAACAElEQVR4nO3WTU7rMACFUcP+d8aIhbAFu4M2QfinDlVn95wJD8exHaMnfR8/31+tlFJKvf84tNaOf8zHH/Nb9/yYP4zv5tfNfv34dn4378Xznb/25xzWK/Px5XeX6fjvd/XLdevUzfPtPv3559893tNivW7+6+91xz/vsfQPns9ffffm3t+23sXxYb/NOeqbz1Ev3uPqHOP8zXtlPt6f513nWD2v5do99feze36Ol9X/q+d/x3O9xflqm6+7em95vv6ehv3an3n9+Hqf5+/9d5/VPS7voWzOUVb71dfWe7x3/bvq5hzHd9f5+Ha9+Xvjd93nfRYAII4AAIBAAgAAAgkAAAgkAAAgkAAAgEACAAACCQAACCQAACCQAACAQAIAAAIJAAAIJAAAIJAAAIBAAgAAAgkAAAgkAAAgkAAAgEACAAACCQAACCQAACCQAACAQAIAAAIJAAAIJAAAIJAAAIBAAgAAAgkAAAgkAAAgkAAAgEACAAACCQAACCQAACCQAACAQAIAAAIJAAAIJAAAIJAAAIBAAgAAAgkAAAgkAAAgkAAAgEACAAACCQAACCQAACCQAACAQAIAAAIJAAAIJAAAIJAAAIBAAgAAAgkAAAgkAAAgkAAAgEACAAACCQAACCQAACCQAACAQAIAAAIJAAAIJAAAIJAAAIBAAgAAAt0AVjvHFbQUd1kAAAAASUVORK5CYII=\"></div><div style=\"vertical-align: middle; max-width: 514px; display: flex; justify-content: space-between;\"><div style=\"float: left;\"><div title=\"#edd1cbff\" style=\"display: inline-block; width: 1em; height: 1em; margin: 0; vertical-align: middle; border: 1px solid #555; background-color: #edd1cbff;\"></div> under</div><div style=\"margin: 0 auto; display: inline-block;\">bad <div title=\"#00000000\" style=\"display: inline-block; width: 1em; height: 1em; margin: 0; vertical-align: middle; border: 1px solid #555; background-color: #00000000;\"></div></div><div style=\"float: right;\">over <div title=\"#2d1e3eff\" style=\"display: inline-block; width: 1em; height: 1em; margin: 0; vertical-align: middle; border: 1px solid #555; background-color: #2d1e3eff;\"></div></div>"
      ],
      "text/plain": [
       "<matplotlib.colors.ListedColormap at 0x7f138a6e22c0>"
      ]
     },
     "execution_count": 15,
     "metadata": {},
     "output_type": "execute_result"
    }
   ],
   "source": [
    "sns.cubehelix_palette(as_cmap=True)"
   ]
  },
  {
   "cell_type": "code",
   "execution_count": 16,
   "id": "ed483ef6-4479-4e22-affd-9a441e12e556",
   "metadata": {},
   "outputs": [
    {
     "data": {
      "image/png": "[encoded data removed]",
      "text/html": [
       "<div style=\"vertical-align: middle;\"><strong>seaborn_cubehelix</strong> </div><div class=\"cmap\"><img alt=\"seaborn_cubehelix colormap\" title=\"seaborn_cubehelix\" style=\"border: 1px solid #555;\" src=\"data:image/png;base64,iVBORw0KGgoAAAANSUhEUgAAAgAAAABACAYAAABsv8+/AAAAIHRFWHRUaXRsZQBzZWFib3JuX2N1YmVoZWxpeCBjb2xvcm1hcCHoIPcAAAAmdEVYdERlc2NyaXB0aW9uAHNlYWJvcm5fY3ViZWhlbGl4IGNvbG9ybWFwGlvH/wAAADB0RVh0QXV0aG9yAE1hdHBsb3RsaWIgdjMuOC40LCBodHRwczovL21hdHBsb3RsaWIub3JnZM6ytAAAADJ0RVh0U29mdHdhcmUATWF0cGxvdGxpYiB2My44LjQsIGh0dHBzOi8vbWF0cGxvdGxpYi5vcmdKaC2TAAAB6UlEQVR4nO3WwXWjMBRAUWX6b2yKSAlpAWaRxJmAZZlk+e7dWYD1wfic9/L39W0fY4x938f/Pj9uk/XP8w+Hb+cf12fnH9dX+11d32b7bbM5rt3vev13103n+OH8s/1Xx5f7bI+Pj+U+i/225+Ybp++7+DzOL8xz103WjwPelrer163u6/YHur/fau5n72v75Xyr66bPf3bd6Y/wszkWv8f+9YI/nH+5z8f3XL/fw3XnP8r3ORfzHc9/9r0e2+r8+8fX891fv3pfp/0v7rd+7rP37eo+k+c4Zs9v9twfzzf/fd/X/wwAIEcAAECQAACAIAEAAEECAACCBAAABAkAAAgSAAAQJAAAIEgAAECQAACAIAEAAEECAACCBAAABAkAAAgSAAAQJAAAIEgAAECQAACAIAEAAEECAACCBAAABAkAAAgSAAAQJAAAIEgAAECQAACAIAEAAEECAACCBAAABAkAAAgSAAAQJAAAIEgAAECQAACAIAEAAEECAACCBAAABAkAAAgSAAAQJAAAIEgAAECQAACAIAEAAEECAACCBAAABAkAAAgSAAAQJAAAIEgAAECQAACAIAEAAEECAACCBAAABAkAAAgSAAAQJAAAIEgAAECQAACAIAEAAEECAACCBAAABAkAAAj6B4ht5hQ4CbSlAAAAAElFTkSuQmCC\"></div><div style=\"vertical-align: middle; max-width: 514px; display: flex; justify-content: space-between;\"><div style=\"float: left;\"><div title=\"#caddedff\" style=\"display: inline-block; width: 1em; height: 1em; margin: 0; vertical-align: middle; border: 1px solid #555; background-color: #caddedff;\"></div> under</div><div style=\"margin: 0 auto; display: inline-block;\">bad <div title=\"#00000000\" style=\"display: inline-block; width: 1em; height: 1em; margin: 0; vertical-align: middle; border: 1px solid #555; background-color: #00000000;\"></div></div><div style=\"float: right;\">over <div title=\"#29203fff\" style=\"display: inline-block; width: 1em; height: 1em; margin: 0; vertical-align: middle; border: 1px solid #555; background-color: #29203fff;\"></div></div>"
      ],
      "text/plain": [
       "<matplotlib.colors.ListedColormap at 0x7f138a6e1e40>"
      ]
     },
     "execution_count": 16,
     "metadata": {},
     "output_type": "execute_result"
    }
   ],
   "source": [
    "sns.cubehelix_palette(start=.2, rot=-.2, as_cmap=True)"
   ]
  },
  {
   "cell_type": "code",
   "execution_count": 17,
   "id": "baa00190-f788-41ba-8520-8a7d25f8320d",
   "metadata": {},
   "outputs": [
    {
     "data": {
      "image/png": "[encoded data removed]",
      "text/html": [
       "<div style=\"vertical-align: middle;\"><strong>seaborn_cubehelix</strong> </div><div class=\"cmap\"><img alt=\"seaborn_cubehelix colormap\" title=\"seaborn_cubehelix\" style=\"border: 1px solid #555;\" src=\"data:image/png;base64,iVBORw0KGgoAAAANSUhEUgAAAgAAAABACAYAAABsv8+/AAAAIHRFWHRUaXRsZQBzZWFib3JuX2N1YmVoZWxpeCBjb2xvcm1hcCHoIPcAAAAmdEVYdERlc2NyaXB0aW9uAHNlYWJvcm5fY3ViZWhlbGl4IGNvbG9ybWFwGlvH/wAAADB0RVh0QXV0aG9yAE1hdHBsb3RsaWIgdjMuOC40LCBodHRwczovL21hdHBsb3RsaWIub3JnZM6ytAAAADJ0RVh0U29mdHdhcmUATWF0cGxvdGxpYiB2My44LjQsIGh0dHBzOi8vbWF0cGxvdGxpYi5vcmdKaC2TAAACJUlEQVR4nO3WS1aEMBAF0Oj+9+QuHLoUcKCBpkKAHr97Jx4D9ZGmPe/j++drba21ta3t1bL+/b6uy/G8Hc/7fV3vs9S63m82p533u6sb5y+X1/f9z8+Hfr1Pmfvufsen8dJ32ON4fex33Hfvd7dfOz3v/UrZy3O6rhvmT+v6fXW/un/tO5nXZvff1M3+3sl53avuv/UrH/DTObN5w/lyV3f+3GvdfuG9eXVOfaGHPtN+5x/kdM+HdXWR7fZhz+v9T74Il3XDvK3u+nz2Am9zpv2u95j3O/+7tv3f/KIMn8fNi73efsGWcnz7j+H/R3kQZc7d9b3d5AX832v2HB/XbQX9/Lxuer6Uur3gUb9a1/f6bABAHAEAAAIJAAAQSAAAgEACAAAEEgAAIJAAAACBBAAACCQAAEAgAQAAAgkAABBIAACAQAIAAAQSAAAgkAAAAIEEAAAIJAAAQCABAAACCQAAEEgAAIBAAgAABBIAACCQAAAAgQQAAAgkAABAIAEAAAIJAAAQSAAAgEACAAAEEgAAIJAAAACBBAAACCQAAEAgAQAAAgkAABBIAACAQAIAAAQSAAAgkAAAAIEEAAAIJAAAQCABAAACCQAAEEgAAIBAAgAABBIAACCQAAAAgQQAAAgkAABAIAEAAAIJAAAQSAAAgEACAAAEEgAAIJAAAACBBAAACCQAAEAgAQAAAgkAABBIAACAQAIAAAQSAAAgkAAAAIF+AUe+kBUwcZIAAAAAAElFTkSuQmCC\"></div><div style=\"vertical-align: middle; max-width: 514px; display: flex; justify-content: space-between;\"><div style=\"float: left;\"><div title=\"#d7dfc0ff\" style=\"display: inline-block; width: 1em; height: 1em; margin: 0; vertical-align: middle; border: 1px solid #555; background-color: #d7dfc0ff;\"></div> under</div><div style=\"margin: 0 auto; display: inline-block;\">bad <div title=\"#00000000\" style=\"display: inline-block; width: 1em; height: 1em; margin: 0; vertical-align: middle; border: 1px solid #555; background-color: #00000000;\"></div></div><div style=\"float: right;\">over <div title=\"#2c1e3eff\" style=\"display: inline-block; width: 1em; height: 1em; margin: 0; vertical-align: middle; border: 1px solid #555; background-color: #2c1e3eff;\"></div></div>"
      ],
      "text/plain": [
       "<matplotlib.colors.ListedColormap at 0x7f138a6e1390>"
      ]
     },
     "execution_count": 17,
     "metadata": {},
     "output_type": "execute_result"
    }
   ],
   "source": [
    "sns.cubehelix_palette(start=.5, rot=-.75, as_cmap=True)"
   ]
  },
  {
   "cell_type": "code",
   "execution_count": 18,
   "id": "47be1b00-c6d7-4aa8-87fa-4396bbec04c8",
   "metadata": {},
   "outputs": [
    {
     "data": {
      "image/png": "[encoded data removed]",
      "text/html": [
       "<div style=\"vertical-align: middle;\"><strong>seaborn_cubehelix</strong> </div><div class=\"cmap\"><img alt=\"seaborn_cubehelix colormap\" title=\"seaborn_cubehelix\" style=\"border: 1px solid #555;\" src=\"data:image/png;base64,iVBORw0KGgoAAAANSUhEUgAAAgAAAABACAYAAABsv8+/AAAAIHRFWHRUaXRsZQBzZWFib3JuX2N1YmVoZWxpeCBjb2xvcm1hcCHoIPcAAAAmdEVYdERlc2NyaXB0aW9uAHNlYWJvcm5fY3ViZWhlbGl4IGNvbG9ybWFwGlvH/wAAADB0RVh0QXV0aG9yAE1hdHBsb3RsaWIgdjMuOC40LCBodHRwczovL21hdHBsb3RsaWIub3JnZM6ytAAAADJ0RVh0U29mdHdhcmUATWF0cGxvdGxpYiB2My44LjQsIGh0dHBzOi8vbWF0cGxvdGxpYi5vcmdKaC2TAAAB/0lEQVR4nO3WzXaCMBRG0Zj3f+d2UH7qjSHocvbtPUEruQTo4Dxaaz/tv8d+/Pvw6OX7dmzD37fvff/Qns/fD/vvk3XT88+B762r5x/3VeeW/fbndef8sr7+vvtwfb1+ue1xzuo9ld+HfdY5i3mzuee4yf4W722YP+xv+zq87+s59b0fY1fXn8w5n8/s/3y1n+u5wz7L9e7Pff08331ud+d96/j53H5rXv/2/trz7+P81/t6e5/tem49f9hnmdNv7q8v77tP7rvMaa+vt77v6/m9nDe777tz67y6z9n77cP72edtc9rieU7mzNbXdcf+bq/frwcAxBEAABBIAABAIAEAAIEEAAAEEgAAEEgAAEAgAQAAgQQAAAQSAAAQSAAAQCABAACBBAAABBIAABBIAABAIAEAAIEEAAAEEgAAEEgAAEAgAQAAgQQAAAQSAAAQSAAAQCABAACBBAAABBIAABBIAABAIAEAAIEEAAAEEgAAEEgAAEAgAQAAgQQAAAQSAAAQSAAAQCABAACBBAAABBIAABBIAABAIAEAAIEEAAAEEgAAEEgAAEAgAQAAgQQAAAQSAAAQSAAAQCABAACBBAAABBIAABBIAABAIAEAAIEEAAAEEgAAEEgAAEAgAQAAgQQAAAQSAAAQSAAAQCABAACBBAAABBIAABBIAABAoF8hbQQimSFB1gAAAABJRU5ErkJggg==\"></div><div style=\"vertical-align: middle; max-width: 514px; display: flex; justify-content: space-between;\"><div style=\"float: left;\"><div title=\"#000000ff\" style=\"display: inline-block; width: 1em; height: 1em; margin: 0; vertical-align: middle; border: 1px solid #555; background-color: #000000ff;\"></div> under</div><div style=\"margin: 0 auto; display: inline-block;\">bad <div title=\"#00000000\" style=\"display: inline-block; width: 1em; height: 1em; margin: 0; vertical-align: middle; border: 1px solid #555; background-color: #00000000;\"></div></div><div style=\"float: right;\">over <div title=\"#d9eeddff\" style=\"display: inline-block; width: 1em; height: 1em; margin: 0; vertical-align: middle; border: 1px solid #555; background-color: #d9eeddff;\"></div></div>"
      ],
      "text/plain": [
       "<matplotlib.colors.ListedColormap at 0x7f138a6e1ae0>"
      ]
     },
     "execution_count": 18,
     "metadata": {},
     "output_type": "execute_result"
    }
   ],
   "source": [
    "sns.cubehelix_palette(start=2, rot=0, dark=0, light=.9, reverse=True, as_cmap=True)"
   ]
  },
  {
   "cell_type": "code",
   "execution_count": 19,
   "id": "09d6e36c-6761-4411-ab45-01e19f590c2a",
   "metadata": {},
   "outputs": [
    {
     "data": {
      "image/png": "[encoded data removed]",
      "text/html": [
       "<div style=\"vertical-align: middle;\"><strong>seaborn_cubehelix</strong> </div><div class=\"cmap\"><img alt=\"seaborn_cubehelix colormap\" title=\"seaborn_cubehelix\" style=\"border: 1px solid #555;\" src=\"data:image/png;base64,iVBORw0KGgoAAAANSUhEUgAAAgAAAABACAYAAABsv8+/AAAAIHRFWHRUaXRsZQBzZWFib3JuX2N1YmVoZWxpeCBjb2xvcm1hcCHoIPcAAAAmdEVYdERlc2NyaXB0aW9uAHNlYWJvcm5fY3ViZWhlbGl4IGNvbG9ybWFwGlvH/wAAADB0RVh0QXV0aG9yAE1hdHBsb3RsaWIgdjMuOC40LCBodHRwczovL21hdHBsb3RsaWIub3JnZM6ytAAAADJ0RVh0U29mdHdhcmUATWF0cGxvdGxpYiB2My44LjQsIGh0dHBzOi8vbWF0cGxvdGxpYi5vcmdKaC2TAAAB60lEQVR4nO3WQXrCIBSFUdr9r6pLcSGkI60SnkG+zu45MxMDj+jg//q53Y7WWjuOoz27f+zV9Xa0nefG7/fhenm/7e1ztd/VfOM+w+2nfebXd5+7un4+1+Z6fb7e/nx7z91/mN39/q4P9/v8/rjg8rl6G7+wNMe4XivWq87VhvlO6/bXdT+fY+258rzD/vV+43LD/uXvUsxxmnt1jvn8V+fdnaOe7/UPsPweqvv99IdaPFfxXHmuPr1ez9ffz9Hn65XvaXGf837zOR77/9d65XnH9ar3WP2O779fv6f59e8GAMQRAAAQSAAAQCABAACBBAAABBIAABBIAABAIAEAAIEEAAAEEgAAEEgAAEAgAQAAgQQAAAQSAAAQSAAAQCABAACBBAAABBIAABBIAABAIAEAAIEEAAAEEgAAEEgAAEAgAQAAgQQAAAQSAAAQSAAAQCABAACBBAAABBIAABBIAABAIAEAAIEEAAAEEgAAEEgAAEAgAQAAgQQAAAQSAAAQSAAAQCABAACBBAAABBIAABBIAABAIAEAAIEEAAAEEgAAEEgAAEAgAQAAgQQAAAQSAAAQSAAAQCABAACBBAAABBIAABBIAABAIAEAAIEEAAAEEgAAEEgAAEAgAQAAgQQAAAQSAAAQSAAAQKBfyLvTFPPVzhEAAAAASUVORK5CYII=\"></div><div style=\"vertical-align: middle; max-width: 514px; display: flex; justify-content: space-between;\"><div style=\"float: left;\"><div title=\"#c3e2e3ff\" style=\"display: inline-block; width: 1em; height: 1em; margin: 0; vertical-align: middle; border: 1px solid #555; background-color: #c3e2e3ff;\"></div> under</div><div style=\"margin: 0 auto; display: inline-block;\">bad <div title=\"#00000000\" style=\"display: inline-block; width: 1em; height: 1em; margin: 0; vertical-align: middle; border: 1px solid #555; background-color: #00000000;\"></div></div><div style=\"float: right;\">over <div title=\"#27213fff\" style=\"display: inline-block; width: 1em; height: 1em; margin: 0; vertical-align: middle; border: 1px solid #555; background-color: #27213fff;\"></div></div>"
      ],
      "text/plain": [
       "<matplotlib.colors.ListedColormap at 0x7f138a6e2890>"
      ]
     },
     "execution_count": 19,
     "metadata": {},
     "output_type": "execute_result"
    }
   ],
   "source": [
    "sns.color_palette(\"ch:start=.2,rot=-.3\", as_cmap=True)"
   ]
  },
  {
   "cell_type": "code",
   "execution_count": 20,
   "id": "fea26aa5-435f-4d6d-a25b-00ac93941e07",
   "metadata": {},
   "outputs": [
    {
     "data": {
      "image/png": "[encoded data removed]",
      "text/html": [
       "<div style=\"vertical-align: middle;\"><strong>seaborn_cubehelix</strong> </div><div class=\"cmap\"><img alt=\"seaborn_cubehelix colormap\" title=\"seaborn_cubehelix\" style=\"border: 1px solid #555;\" src=\"data:image/png;base64,iVBORw0KGgoAAAANSUhEUgAAAgAAAABACAYAAABsv8+/AAAAIHRFWHRUaXRsZQBzZWFib3JuX2N1YmVoZWxpeCBjb2xvcm1hcCHoIPcAAAAmdEVYdERlc2NyaXB0aW9uAHNlYWJvcm5fY3ViZWhlbGl4IGNvbG9ybWFwGlvH/wAAADB0RVh0QXV0aG9yAE1hdHBsb3RsaWIgdjMuOC40LCBodHRwczovL21hdHBsb3RsaWIub3JnZM6ytAAAADJ0RVh0U29mdHdhcmUATWF0cGxvdGxpYiB2My44LjQsIGh0dHBzOi8vbWF0cGxvdGxpYi5vcmdKaC2TAAACHklEQVR4nO3WQW7bMBCGUbb3v1Ru0XUOQmZRyKpGGodAs/vf2wQhZWpsJfD36/PPxxpjjLHm+Ndaf5fHbNbrz2P/uL6u717fvW52513nO67r7nf8vmazXq+fq+yPx/3b68rc9/1j/N059ua8zde+32P7mLO+bF2ue63PZv11n+t9R/319vz37nd/X+V15bx2v/ncz/nG2+u7x9w/3/fX755X/9zvr3t/3v3P7Hr99hyzO+/9HPO79/Was+yX687z9u6zO0e7Pq7r/3/e+pE56ud0/lvW9W7udZmn/3y7+Z+fY7/frDfXv+6/ud/NPb/Zr+/r/jzm3hzlH70/75h7Pp53zv38vTvr93SZq85x7j+f93sAAHEEAAAEEgAAEEgAAEAgAQAAgQQAAAQSAAAQSAAAQCABAACBBAAABBIAABBIAABAIAEAAIEEAAAEEgAAEEgAAEAgAQAAgQQAAAQSAAAQSAAAQCABAACBBAAABBIAABBIAABAIAEAAIEEAAAEEgAAEEgAAEAgAQAAgQQAAAQSAAAQSAAAQCABAACBBAAABBIAABBIAABAIAEAAIEEAAAEEgAAEEgAAEAgAQAAgQQAAAQSAAAQSAAAQCABAACBBAAABBIAABBIAABAIAEAAIEEAAAEEgAAEEgAAEAgAQAAgQQAAAQSAAAQSAAAQCABAACBBAAABBIAABBIAABAIAEAAIEEAAAEEgAAEOgLKXGnFBk28owAAAAASUVORK5CYII=\"></div><div style=\"vertical-align: middle; max-width: 514px; display: flex; justify-content: space-between;\"><div style=\"float: left;\"><div title=\"#e3d9c1ff\" style=\"display: inline-block; width: 1em; height: 1em; margin: 0; vertical-align: middle; border: 1px solid #555; background-color: #e3d9c1ff;\"></div> under</div><div style=\"margin: 0 auto; display: inline-block;\">bad <div title=\"#00000000\" style=\"display: inline-block; width: 1em; height: 1em; margin: 0; vertical-align: middle; border: 1px solid #555; background-color: #00000000;\"></div></div><div style=\"float: right;\">over <div title=\"#27213fff\" style=\"display: inline-block; width: 1em; height: 1em; margin: 0; vertical-align: middle; border: 1px solid #555; background-color: #27213fff;\"></div></div>"
      ],
      "text/plain": [
       "<matplotlib.colors.ListedColormap at 0x7f138a6e2bf0>"
      ]
     },
     "execution_count": 20,
     "metadata": {},
     "output_type": "execute_result"
    }
   ],
   "source": [
    "sns.color_palette(\"ch:s=-.2,r=.6\", as_cmap=True)"
   ]
  },
  {
   "cell_type": "markdown",
   "id": "f9e77eee-917c-455c-b67e-b3d35cde2541",
   "metadata": {},
   "source": [
    "### Custom sequential palettes"
   ]
  },
  {
   "cell_type": "code",
   "execution_count": 21,
   "id": "4ac94b0a-c36a-4984-baa4-5a845b2e8899",
   "metadata": {},
   "outputs": [
    {
     "data": {
      "image/png": "[encoded data removed]",
      "text/html": [
       "<div style=\"vertical-align: middle;\"><strong>blend</strong> </div><div class=\"cmap\"><img alt=\"blend colormap\" title=\"blend\" style=\"border: 1px solid #555;\" src=\"data:image/png;base64,iVBORw0KGgoAAAANSUhEUgAAAgAAAABACAYAAABsv8+/AAAAFHRFWHRUaXRsZQBibGVuZCBjb2xvcm1hcKH0gPAAAAAadEVYdERlc2NyaXB0aW9uAGJsZW5kIGNvbG9ybWFwX6spFgAAADB0RVh0QXV0aG9yAE1hdHBsb3RsaWIgdjMuOC40LCBodHRwczovL21hdHBsb3RsaWIub3JnZM6ytAAAADJ0RVh0U29mdHdhcmUATWF0cGxvdGxpYiB2My44LjQsIGh0dHBzOi8vbWF0cGxvdGxpYi5vcmdKaC2TAAABzUlEQVR4nO3WwU7CQBRA0er/f6mJG3+gLghWpx0EbOLinrMRbGc6jwRyX94+3tdlWZZlufxZv95dX6zfrm7/v963rTu+b1nHdT/vmz13t//0fMO66fmOz7Hddee66VzDuf5rrq/Lj647e67rMX7Zf7jvz3Ptnnt73TbX8XnPm2uy/+5847oH57r3uc9+bifNNf/cJ+tm39vp787Zcz24/3De8+Y6Xrd/7rP7nz3X7XWnzzX7fj+5//lzDdencw373zvX9Hzjcy9eFwAgRwAAQJAAAIAgAQAAQQIAAIIEAAAECQAACBIAABAkAAAgSAAAQJAAAIAgAQAAQQIAAIIEAAAECQAACBIAABAkAAAgSAAAQJAAAIAgAQAAQQIAAIIEAAAECQAACBIAABAkAAAgSAAAQJAAAIAgAQAAQQIAAIIEAAAECQAACBIAABAkAAAgSAAAQJAAAIAgAQAAQQIAAIIEAAAECQAACBIAABAkAAAgSAAAQJAAAIAgAQAAQQIAAIIEAAAECQAACBIAABAkAAAgSAAAQJAAAIAgAQAAQQIAAIIEAAAECQAACBIAABAkAAAgSAAAQJAAAIAgAQAAQQIAAIIEAAAECQAACPoE5sW7nsq6G7AAAAAASUVORK5CYII=\"></div><div style=\"vertical-align: middle; max-width: 514px; display: flex; justify-content: space-between;\"><div style=\"float: left;\"><div title=\"#ebf3edff\" style=\"display: inline-block; width: 1em; height: 1em; margin: 0; vertical-align: middle; border: 1px solid #555; background-color: #ebf3edff;\"></div> under</div><div style=\"margin: 0 auto; display: inline-block;\">bad <div title=\"#00000000\" style=\"display: inline-block; width: 1em; height: 1em; margin: 0; vertical-align: middle; border: 1px solid #555; background-color: #00000000;\"></div></div><div style=\"float: right;\">over <div title=\"#2e8b57ff\" style=\"display: inline-block; width: 1em; height: 1em; margin: 0; vertical-align: middle; border: 1px solid #555; background-color: #2e8b57ff;\"></div></div>"
      ],
      "text/plain": [
       "<matplotlib.colors.LinearSegmentedColormap at 0x7f138a6e2e60>"
      ]
     },
     "execution_count": 21,
     "metadata": {},
     "output_type": "execute_result"
    }
   ],
   "source": [
    "sns.light_palette(\"seagreen\", as_cmap=True)"
   ]
  },
  {
   "cell_type": "code",
   "execution_count": 22,
   "id": "6c5968cd-a3e0-495a-a2d6-afc53af7f342",
   "metadata": {},
   "outputs": [
    {
     "data": {
      "image/png": "[encoded data removed]",
      "text/html": [
       "<div style=\"vertical-align: middle;\"><strong>blend</strong> </div><div class=\"cmap\"><img alt=\"blend colormap\" title=\"blend\" style=\"border: 1px solid #555;\" src=\"data:image/png;base64,iVBORw0KGgoAAAANSUhEUgAAAgAAAABACAYAAABsv8+/AAAAFHRFWHRUaXRsZQBibGVuZCBjb2xvcm1hcKH0gPAAAAAadEVYdERlc2NyaXB0aW9uAGJsZW5kIGNvbG9ybWFwX6spFgAAADB0RVh0QXV0aG9yAE1hdHBsb3RsaWIgdjMuOC40LCBodHRwczovL21hdHBsb3RsaWIub3JnZM6ytAAAADJ0RVh0U29mdHdhcmUATWF0cGxvdGxpYiB2My44LjQsIGh0dHBzOi8vbWF0cGxvdGxpYi5vcmdKaC2TAAABy0lEQVR4nO3WQVLCQBRAwehhvZOH8yxxIWBBCMwYys3r3kQZ48yvFKn39vH5tS7Lsqzruvw4XU+/nz9dNuvny3p//XLb/fvOP/yu399nsz58vsfr6805hufaXT841/D5Jue62WfzPEbnuux7dO698z2ee3qup3Nfn2987tnzHXsu83Nf//343Pf3Gf5+TT6X3f+7e9/1PtPvlc3+f537fJmca/q9MTjXy96Xe+d7Nvfkff/+vjx2vte9L2/Od7s+Otfhua/nel8AgBwBAABBAgAAggQAAAQJAAAIEgAAECQAACBIAABAkAAAgCABAABBAgAAggQAAAQJAAAIEgAAECQAACBIAABAkAAAgCABAABBAgAAggQAAAQJAAAIEgAAECQAACBIAABAkAAAgCABAABBAgAAggQAAAQJAAAIEgAAECQAACBIAABAkAAAgCABAABBAgAAggQAAAQJAAAIEgAAECQAACBIAABAkAAAgCABAABBAgAAggQAAAQJAAAIEgAAECQAACBIAABAkAAAgCABAABBAgAAggQAAAQJAAAIEgAAECQAACBIAABAkAAAgCABAABBAgAAggQAAAQJAAAIEgAAECQAACDoG3CzbP81+Rr3AAAAAElFTkSuQmCC\"></div><div style=\"vertical-align: middle; max-width: 514px; display: flex; justify-content: space-between;\"><div style=\"float: left;\"><div title=\"#6699ddff\" style=\"display: inline-block; width: 1em; height: 1em; margin: 0; vertical-align: middle; border: 1px solid #555; background-color: #6699ddff;\"></div> under</div><div style=\"margin: 0 auto; display: inline-block;\">bad <div title=\"#00000000\" style=\"display: inline-block; width: 1em; height: 1em; margin: 0; vertical-align: middle; border: 1px solid #555; background-color: #00000000;\"></div></div><div style=\"float: right;\">over <div title=\"#242629ff\" style=\"display: inline-block; width: 1em; height: 1em; margin: 0; vertical-align: middle; border: 1px solid #555; background-color: #242629ff;\"></div></div>"
      ],
      "text/plain": [
       "<matplotlib.colors.LinearSegmentedColormap at 0x7f138a6e18a0>"
      ]
     },
     "execution_count": 22,
     "metadata": {},
     "output_type": "execute_result"
    }
   ],
   "source": [
    "sns.dark_palette(\"#69d\", reverse=True, as_cmap=True)"
   ]
  },
  {
   "cell_type": "code",
   "execution_count": 23,
   "id": "cc4ad45d-ff53-4847-a918-2026d62399f4",
   "metadata": {},
   "outputs": [
    {
     "data": {
      "image/png": "[encoded data removed]",
      "text/html": [
       "<div style=\"vertical-align: middle;\"><strong>blend</strong> </div><div class=\"cmap\"><img alt=\"blend colormap\" title=\"blend\" style=\"border: 1px solid #555;\" src=\"data:image/png;base64,iVBORw0KGgoAAAANSUhEUgAAAgAAAABACAYAAABsv8+/AAAAFHRFWHRUaXRsZQBibGVuZCBjb2xvcm1hcKH0gPAAAAAadEVYdERlc2NyaXB0aW9uAGJsZW5kIGNvbG9ybWFwX6spFgAAADB0RVh0QXV0aG9yAE1hdHBsb3RsaWIgdjMuOC40LCBodHRwczovL21hdHBsb3RsaWIub3JnZM6ytAAAADJ0RVh0U29mdHdhcmUATWF0cGxvdGxpYiB2My44LjQsIGh0dHBzOi8vbWF0cGxvdGxpYi5vcmdKaC2TAAABkklEQVR4nO3WUWrCQBRA0Wn3v1i7gumHmtJAwJhAhHvOjxrn6RgGuV+3288cY4w57ubzyfL6fmG5PP89LO//rR+r9efO793f9vzc+L7nw1ytX+9vrtafM793f59zP1+bf/+8XHU/980fPi8nfe7Wvo/On/e7rzpH782/vr8POUf+dw7t7/r7uW9+93l5+B4AQI4AAIAgAQAAQQIAAIIEAAAECQAACBIAABAkAAAgSAAAQJAAAIAgAQAAQQIAAIIEAAAECQAACBIAABAkAAAgSAAAQJAAAIAgAQAAQQIAAIIEAAAECQAACBIAABAkAAAgSAAAQJAAAIAgAQAAQQIAAIIEAAAECQAACBIAABAkAAAgSAAAQJAAAIAgAQAAQQIAAIIEAAAECQAACBIAABAkAAAgSAAAQJAAAIAgAQAAQQIAAIIEAAAECQAACBIAABAkAAAgSAAAQJAAAIAgAQAAQQIAAIIEAAAECQAACBIAABAkAAAgSAAAQJAAAIAgAQAAQQIAAIIEAAAECQAACBIAABD0C58hZfxC3QCnAAAAAElFTkSuQmCC\"></div><div style=\"vertical-align: middle; max-width: 514px; display: flex; justify-content: space-between;\"><div style=\"float: left;\"><div title=\"#f0f1f2ff\" style=\"display: inline-block; width: 1em; height: 1em; margin: 0; vertical-align: middle; border: 1px solid #555; background-color: #f0f1f2ff;\"></div> under</div><div style=\"margin: 0 auto; display: inline-block;\">bad <div title=\"#00000000\" style=\"display: inline-block; width: 1em; height: 1em; margin: 0; vertical-align: middle; border: 1px solid #555; background-color: #00000000;\"></div></div><div style=\"float: right;\">over <div title=\"#4c72b0ff\" style=\"display: inline-block; width: 1em; height: 1em; margin: 0; vertical-align: middle; border: 1px solid #555; background-color: #4c72b0ff;\"></div></div>"
      ],
      "text/plain": [
       "<matplotlib.colors.LinearSegmentedColormap at 0x7f138a6e2fe0>"
      ]
     },
     "execution_count": 23,
     "metadata": {},
     "output_type": "execute_result"
    }
   ],
   "source": [
    "sns.color_palette(\"light:b\", as_cmap=True)"
   ]
  },
  {
   "cell_type": "code",
   "execution_count": 24,
   "id": "14f306bb-e086-4063-9635-b259601725e7",
   "metadata": {},
   "outputs": [
    {
     "data": {
      "image/png": "[encoded data removed]",
      "text/html": [
       "<div style=\"vertical-align: middle;\"><strong>blend</strong> </div><div class=\"cmap\"><img alt=\"blend colormap\" title=\"blend\" style=\"border: 1px solid #555;\" src=\"data:image/png;base64,iVBORw0KGgoAAAANSUhEUgAAAgAAAABACAYAAABsv8+/AAAAFHRFWHRUaXRsZQBibGVuZCBjb2xvcm1hcKH0gPAAAAAadEVYdERlc2NyaXB0aW9uAGJsZW5kIGNvbG9ybWFwX6spFgAAADB0RVh0QXV0aG9yAE1hdHBsb3RsaWIgdjMuOC40LCBodHRwczovL21hdHBsb3RsaWIub3JnZM6ytAAAADJ0RVh0U29mdHdhcmUATWF0cGxvdGxpYiB2My44LjQsIGh0dHBzOi8vbWF0cGxvdGxpYi5vcmdKaC2TAAAB1UlEQVR4nO3WS27CMABAQbdH7gl67m7SRT8IgxVC2L2ZBVItN7GJg97b1+fHNsYY27aNMcb4+Rzj98+x/Y/cH5/n/41c5k3zry93M36Zf33h1bqm2y7XtbuP6f6XedP1pvGxGF9+Lw/vY2d9O+t6eh+nn9v1wPJ72d3HdL3F+O1ze9H5e/q5Hfxejp6/s+/lav7Z93Kx3tPv5c0+7t/n8Hu52sfZ93J5nk6ua7G+0+taPf+d+7/uPB3cx8vP09Hfi7//f9V5enIfj/5eTOPzPt4HAJAjAAAgSAAAQJAAAIAgAQAAQQIAAIIEAAAECQAACBIAABAkAAAgSAAAQJAAAIAgAQAAQQIAAIIEAAAECQAACBIAABAkAAAgSAAAQJAAAIAgAQAAQQIAAIIEAAAECQAACBIAABAkAAAgSAAAQJAAAIAgAQAAQQIAAIIEAAAECQAACBIAABAkAAAgSAAAQJAAAIAgAQAAQQIAAIIEAAAECQAACBIAABAkAAAgSAAAQJAAAIAgAQAAQQIAAIIEAAAECQAACBIAABAkAAAgSAAAQJAAAIAgAQAAQQIAAIIEAAAECQAACBIAABAkAAAgSAAAQJAAAIAgAQAAQQIAAIIEAAAEfQPdoXsBDzlQ4wAAAABJRU5ErkJggg==\"></div><div style=\"vertical-align: middle; max-width: 514px; display: flex; justify-content: space-between;\"><div style=\"float: left;\"><div title=\"#fa8072ff\" style=\"display: inline-block; width: 1em; height: 1em; margin: 0; vertical-align: middle; border: 1px solid #555; background-color: #fa8072ff;\"></div> under</div><div style=\"margin: 0 auto; display: inline-block;\">bad <div title=\"#00000000\" style=\"display: inline-block; width: 1em; height: 1em; margin: 0; vertical-align: middle; border: 1px solid #555; background-color: #00000000;\"></div></div><div style=\"float: right;\">over <div title=\"#2e2322ff\" style=\"display: inline-block; width: 1em; height: 1em; margin: 0; vertical-align: middle; border: 1px solid #555; background-color: #2e2322ff;\"></div></div>"
      ],
      "text/plain": [
       "<matplotlib.colors.LinearSegmentedColormap at 0x7f138a6e32b0>"
      ]
     },
     "execution_count": 24,
     "metadata": {},
     "output_type": "execute_result"
    }
   ],
   "source": [
    "sns.color_palette(\"dark:salmon_r\", as_cmap=True)"
   ]
  },
  {
   "cell_type": "markdown",
   "id": "83c45d4d-5376-477e-8678-70e5e2181a6a",
   "metadata": {},
   "source": [
    "### Sequential color brewer palettes"
   ]
  },
  {
   "cell_type": "code",
   "execution_count": 25,
   "id": "aa48102f-7b41-4a83-b409-5ac59f6feec4",
   "metadata": {},
   "outputs": [
    {
     "data": {
      "image/png": "[encoded data removed]",
      "text/html": [
       "<div style=\"vertical-align: middle;\"><strong>Blues</strong> </div><div class=\"cmap\"><img alt=\"Blues colormap\" title=\"Blues\" style=\"border: 1px solid #555;\" src=\"data:image/png;base64,iVBORw0KGgoAAAANSUhEUgAAAgAAAABACAYAAABsv8+/AAAAFHRFWHRUaXRsZQBCbHVlcyBjb2xvcm1hcIbbCAEAAAAadEVYdERlc2NyaXB0aW9uAEJsdWVzIGNvbG9ybWFweISh5wAAADB0RVh0QXV0aG9yAE1hdHBsb3RsaWIgdjMuOC40LCBodHRwczovL21hdHBsb3RsaWIub3JnZM6ytAAAADJ0RVh0U29mdHdhcmUATWF0cGxvdGxpYiB2My44LjQsIGh0dHBzOi8vbWF0cGxvdGxpYi5vcmdKaC2TAAAB00lEQVR4nO3WwU7rMAAAQcP//y8HpIQDJQi3Vopa3uHtzCVynDhxCdK+vL3v+xhj7J+HcTmMy+E4P47x7fnjqgfnp8ct57/Xe2z+3v397/Pz77ON+XvYfze/OP81vn/+9ntuV+89z6/2d1l/Hh/X397fdhwX+5zWOV3/5Pz8HqfXLe9fvN/8+yzuv/p7zPNX+zj5Ts6et1pvsY9717v6bk72cz4+2df2rOf87rmPr/vzH281f+91z1rnr5439u3rhp/jbRqvrnv6+F8953P8OgCAHAEAAEECAACCBAAABAkAAAgSAAAQJAAAIEgAAECQAACAIAEAAEECAACCBAAABAkAAAgSAAAQJAAAIEgAAECQAACAIAEAAEECAACCBAAABAkAAAgSAAAQJAAAIEgAAECQAACAIAEAAEECAACCBAAABAkAAAgSAAAQJAAAIEgAAECQAACAIAEAAEECAACCBAAABAkAAAgSAAAQJAAAIEgAAECQAACAIAEAAEECAACCBAAABAkAAAgSAAAQJAAAIEgAAECQAACAIAEAAEECAACCBAAABAkAAAgSAAAQJAAAIEgAAECQAACAIAEAAEECAACCBAAABAkAAAgSAAAQJAAAIOgDfCcYQIPsTRMAAAAASUVORK5CYII=\"></div><div style=\"vertical-align: middle; max-width: 514px; display: flex; justify-content: space-between;\"><div style=\"float: left;\"><div title=\"#f7fbffff\" style=\"display: inline-block; width: 1em; height: 1em; margin: 0; vertical-align: middle; border: 1px solid #555; background-color: #f7fbffff;\"></div> under</div><div style=\"margin: 0 auto; display: inline-block;\">bad <div title=\"#00000000\" style=\"display: inline-block; width: 1em; height: 1em; margin: 0; vertical-align: middle; border: 1px solid #555; background-color: #00000000;\"></div></div><div style=\"float: right;\">over <div title=\"#08306bff\" style=\"display: inline-block; width: 1em; height: 1em; margin: 0; vertical-align: middle; border: 1px solid #555; background-color: #08306bff;\"></div></div>"
      ],
      "text/plain": [
       "<matplotlib.colors.LinearSegmentedColormap at 0x7f138a6e3430>"
      ]
     },
     "execution_count": 25,
     "metadata": {},
     "output_type": "execute_result"
    }
   ],
   "source": [
    "sns.color_palette(\"Blues\", as_cmap=True)"
   ]
  },
  {
   "cell_type": "code",
   "execution_count": 26,
   "id": "c67081df-2de3-4bfe-81c1-62279b6ad6b0",
   "metadata": {},
   "outputs": [
    {
     "data": {
      "image/png": "[encoded data removed]",
      "text/html": [
       "<div style=\"vertical-align: middle;\"><strong>YlOrBr</strong> </div><div class=\"cmap\"><img alt=\"YlOrBr colormap\" title=\"YlOrBr\" style=\"border: 1px solid #555;\" src=\"data:image/png;base64,iVBORw0KGgoAAAANSUhEUgAAAgAAAABACAYAAABsv8+/AAAAFXRFWHRUaXRsZQBZbE9yQnIgY29sb3JtYXCzto19AAAAG3RFWHREZXNjcmlwdGlvbgBZbE9yQnIgY29sb3JtYXD6IZWZAAAAMHRFWHRBdXRob3IATWF0cGxvdGxpYiB2My44LjQsIGh0dHBzOi8vbWF0cGxvdGxpYi5vcmdkzrK0AAAAMnRFWHRTb2Z0d2FyZQBNYXRwbG90bGliIHYzLjguNCwgaHR0cHM6Ly9tYXRwbG90bGliLm9yZ0poLZMAAAHeSURBVHic7dZLktowAEBBkftfM8cYnEUYUsgo5jer171xWZaE7GLxTtv2extjjLGdx1/b7XU1Pi7j2zx+9Hza7+Hnq/MdPV+d//La8/N5v+3F8bfXT+f/1Pj8ntf5z16/pn1f3efN3/3Y9fI9zovveJ6/25Pzn9538T/ZzT+/db7tOv972u367WD8en+e9jkY/7du2udg/Oic83s9fM7FuXfjj94vzvFj61489/JvOm7vd/PG/XWr9bt51/Wn/+7/8+c73d9vXr+4X77var/dvNP9eZ/+3cU5fg0AIEcAAECQAACAIAEAAEECAACCBAAABAkAAAgSAAAQJAAAIEgAAECQAACAIAEAAEECAACCBAAABAkAAAgSAAAQJAAAIEgAAECQAACAIAEAAEECAACCBAAABAkAAAgSAAAQJAAAIEgAAECQAACAIAEAAEECAACCBAAABAkAAAgSAAAQJAAAIEgAAECQAACAIAEAAEECAACCBAAABAkAAAgSAAAQJAAAIEgAAECQAACAIAEAAEECAACCBAAABAkAAAgSAAAQJAAAIEgAAECQAACAIAEAAEECAACCBAAABAkAAAgSAAAQJAAAIEgAAECQAACAIAEAAEECAACCBAAABAkAAAj6A9Yg3R67d126AAAAAElFTkSuQmCC\"></div><div style=\"vertical-align: middle; max-width: 514px; display: flex; justify-content: space-between;\"><div style=\"float: left;\"><div title=\"#ffffe5ff\" style=\"display: inline-block; width: 1em; height: 1em; margin: 0; vertical-align: middle; border: 1px solid #555; background-color: #ffffe5ff;\"></div> under</div><div style=\"margin: 0 auto; display: inline-block;\">bad <div title=\"#00000000\" style=\"display: inline-block; width: 1em; height: 1em; margin: 0; vertical-align: middle; border: 1px solid #555; background-color: #00000000;\"></div></div><div style=\"float: right;\">over <div title=\"#662506ff\" style=\"display: inline-block; width: 1em; height: 1em; margin: 0; vertical-align: middle; border: 1px solid #555; background-color: #662506ff;\"></div></div>"
      ],
      "text/plain": [
       "<matplotlib.colors.LinearSegmentedColormap at 0x7f138a6e3f10>"
      ]
     },
     "execution_count": 26,
     "metadata": {},
     "output_type": "execute_result"
    }
   ],
   "source": [
    "sns.color_palette(\"YlOrBr\", as_cmap=True)"
   ]
  },
  {
   "cell_type": "markdown",
   "id": "af2a2481-2bd1-424b-9b0b-9ff7af92362f",
   "metadata": {},
   "source": [
    "### Perceptually uniform diverging palettes"
   ]
  },
  {
   "cell_type": "code",
   "execution_count": 27,
   "id": "9ffadf6c-2a81-4bc0-b66d-ea3749c05780",
   "metadata": {},
   "outputs": [
    {
     "data": {
      "image/png": "[encoded data removed]",
      "text/html": [
       "<div style=\"vertical-align: middle;\"><strong>vlag</strong> </div><div class=\"cmap\"><img alt=\"vlag colormap\" title=\"vlag\" style=\"border: 1px solid #555;\" src=\"data:image/png;base64,iVBORw0KGgoAAAANSUhEUgAAAgAAAABACAYAAABsv8+/AAAAE3RFWHRUaXRsZQB2bGFnIGNvbG9ybWFwQ/+bDQAAABl0RVh0RGVzY3JpcHRpb24AdmxhZyBjb2xvcm1hcMhNC5UAAAAwdEVYdEF1dGhvcgBNYXRwbG90bGliIHYzLjguNCwgaHR0cHM6Ly9tYXRwbG90bGliLm9yZ2TOsrQAAAAydEVYdFNvZnR3YXJlAE1hdHBsb3RsaWIgdjMuOC40LCBodHRwczovL21hdHBsb3RsaWIub3JnSmgtkwAAAhhJREFUeJzt1kFuqzAYhVGbLqWre3vs2qATnArDX0j1ZvecSYRjbEOj6uuf/7621lr76K1dfS6n6+14vVTz/tdn//X7Xt239Efz+u3619/X49O5l/fWOd1fzjuuP+bPz3net1+O96Wa9/v1eM+388b46bzFvqe/33Gd87mnfcr1qvc4n6f6+83PU41Xzz+f87h//d6v3/cY720e3z/b8Xr2Gt624xfjevrc5ut1nb5f9/Ex73g95o95bb2+72fdafx1Xd0/1t/3X6/vb9O8cr/5+ar15+d+un7xHqr3Ut9fnWva/+G6fz7n3f6v6/f2eX7Op/vP5336vt97vtvfefk7fXbu+vd2c659fP83BQAkEQAAEEgAAEAgAQAAgQQAAAQSAAAQSAAAQCABAACBBAAABBIAABBIAABAIAEAAIEEAAAEEgAAEEgAAEAgAQAAgQQAAAQSAAAQSAAAQCABAACBBAAABBIAABBIAABAIAEAAIEEAAAEEgAAEEgAAEAgAQAAgQQAAAQSAAAQSAAAQCABAACBBAAABBIAABBIAABAIAEAAIEEAAAEEgAAEEgAAEAgAQAAgQQAAAQSAAAQSAAAQCABAACBBAAABBIAABBIAABAIAEAAIEEAAAEEgAAEEgAAEAgAQAAgQQAAAQSAAAQSAAAQCABAACBBAAABBIAABBIAABAIAEAAIEEAAAEEgAAEEgAAECgb31CUaaV0kkSAAAAAElFTkSuQmCC\"></div><div style=\"vertical-align: middle; max-width: 514px; display: flex; justify-content: space-between;\"><div style=\"float: left;\"><div title=\"#2369bdff\" style=\"display: inline-block; width: 1em; height: 1em; margin: 0; vertical-align: middle; border: 1px solid #555; background-color: #2369bdff;\"></div> under</div><div style=\"margin: 0 auto; display: inline-block;\">bad <div title=\"#00000000\" style=\"display: inline-block; width: 1em; height: 1em; margin: 0; vertical-align: middle; border: 1px solid #555; background-color: #00000000;\"></div></div><div style=\"float: right;\">over <div title=\"#a9373bff\" style=\"display: inline-block; width: 1em; height: 1em; margin: 0; vertical-align: middle; border: 1px solid #555; background-color: #a9373bff;\"></div></div>"
      ],
      "text/plain": [
       "<matplotlib.colors.ListedColormap at 0x7f138a6e2d40>"
      ]
     },
     "execution_count": 27,
     "metadata": {},
     "output_type": "execute_result"
    }
   ],
   "source": [
    "sns.color_palette(\"vlag\", as_cmap=True)"
   ]
  },
  {
   "cell_type": "code",
   "execution_count": 28,
   "id": "abc8753f-163d-407c-be5c-a3355bb53eac",
   "metadata": {},
   "outputs": [
    {
     "data": {
      "image/png": "[encoded data removed]",
      "text/html": [
       "<div style=\"vertical-align: middle;\"><strong>icefire</strong> </div><div class=\"cmap\"><img alt=\"icefire colormap\" title=\"icefire\" style=\"border: 1px solid #555;\" src=\"data:image/png;base64,iVBORw0KGgoAAAANSUhEUgAAAgAAAABACAYAAABsv8+/AAAAFnRFWHRUaXRsZQBpY2VmaXJlIGNvbG9ybWFwvkjy7gAAABx0RVh0RGVzY3JpcHRpb24AaWNlZmlyZSBjb2xvcm1hcBlmQ5cAAAAwdEVYdEF1dGhvcgBNYXRwbG90bGliIHYzLjguNCwgaHR0cHM6Ly9tYXRwbG90bGliLm9yZ2TOsrQAAAAydEVYdFNvZnR3YXJlAE1hdHBsb3RsaWIgdjMuOC40LCBodHRwczovL21hdHBsb3RsaWIub3JnSmgtkwAAAm1JREFUeJzt1sFx2zAQBVCAVP8VpZIUkCpMIgeDdAAJke7/vct6FwuYMx7P/Prrz+9WSinH2UoppZxnKf/27+bHar/N8w/7Np+v9lbvzecf1r5/TvNP+3WtH+21vtfufqpH7RdKr98fXI8yzOs0367+np/TvPd9fvX1PMb+OF6el3uv9+1rmJfza5p/19b7Np3/zI+xn/Z/5vPeMeydq/Nez/P4/zv9D3C2eW+u5/ju3Z8v98rT+VTLtFfadK/3ZT6/5mNtZZ5/q1dtU/+mbv2nu6/15fl23at1nNfx/Hk+9vvifP9wf1/N+xfM7+2L95/O73l5PX+6N+8t+qf9N/X+/W3ot/6H/dlrQ73Pr/3t9fk9317Pt61Mfa/763m95+W/87q3qa/DXr3u3/NV7Yu91v7gNa97f7DXVX/Pt3nvMe09+t5jsfeY3nmM56v5u3v39037i++6/v8AgCACAAAEEgAAIJAAAACBBAAACCQAAEAgAQAAAgkAABBIAACAQAIAAAQSAAAgkAAAAIEEAAAIJAAAQCABAAACCQAAEEgAAIBAAgAABBIAACCQAAAAgQQAAAgkAABAIAEAAAIJAAAQSAAAgEACAAAEEgAAIJAAAACBBAAACCQAAEAgAQAAAgkAABBIAACAQAIAAAQSAAAgkAAAAIEEAAAIJAAAQCABAAACCQAAEEgAAIBAAgAABBIAACCQAAAAgQQAAAgkAABAIAEAAAIJAAAQSAAAgEACAAAEEgAAIJAAAACBBAAACCQAAEAgAQAAAgkAABBIAACAQAIAAAQSAAAgkAAAAIEEAAAIJAAAQCABAAAC/QWSkzsLHuawCwAAAABJRU5ErkJggg==\"></div><div style=\"vertical-align: middle; max-width: 514px; display: flex; justify-content: space-between;\"><div style=\"float: left;\"><div title=\"#bde7dbff\" style=\"display: inline-block; width: 1em; height: 1em; margin: 0; vertical-align: middle; border: 1px solid #555; background-color: #bde7dbff;\"></div> under</div><div style=\"margin: 0 auto; display: inline-block;\">bad <div title=\"#00000000\" style=\"display: inline-block; width: 1em; height: 1em; margin: 0; vertical-align: middle; border: 1px solid #555; background-color: #00000000;\"></div></div><div style=\"float: right;\">over <div title=\"#ffd4acff\" style=\"display: inline-block; width: 1em; height: 1em; margin: 0; vertical-align: middle; border: 1px solid #555; background-color: #ffd4acff;\"></div></div>"
      ],
      "text/plain": [
       "<matplotlib.colors.ListedColormap at 0x7f13e01f2a70>"
      ]
     },
     "execution_count": 28,
     "metadata": {},
     "output_type": "execute_result"
    }
   ],
   "source": [
    "sns.color_palette(\"icefire\", as_cmap=True)"
   ]
  },
  {
   "cell_type": "markdown",
   "id": "ff53a264-5c32-4686-9481-d48b69511f94",
   "metadata": {},
   "source": [
    "### Custom diverging palettes"
   ]
  },
  {
   "cell_type": "code",
   "execution_count": 29,
   "id": "86f0c399-dcaf-4f21-bab6-508cc95234f5",
   "metadata": {},
   "outputs": [
    {
     "data": {
      "image/png": "[encoded data removed]",
      "text/html": [
       "<div style=\"vertical-align: middle;\"><strong>blend</strong> </div><div class=\"cmap\"><img alt=\"blend colormap\" title=\"blend\" style=\"border: 1px solid #555;\" src=\"data:image/png;base64,iVBORw0KGgoAAAANSUhEUgAAAgAAAABACAYAAABsv8+/AAAAFHRFWHRUaXRsZQBibGVuZCBjb2xvcm1hcKH0gPAAAAAadEVYdERlc2NyaXB0aW9uAGJsZW5kIGNvbG9ybWFwX6spFgAAADB0RVh0QXV0aG9yAE1hdHBsb3RsaWIgdjMuOC40LCBodHRwczovL21hdHBsb3RsaWIub3JnZM6ytAAAADJ0RVh0U29mdHdhcmUATWF0cGxvdGxpYiB2My44LjQsIGh0dHBzOi8vbWF0cGxvdGxpYi5vcmdKaC2TAAAB+klEQVR4nO3WTW6DMBSF0QddWJfWRXS/uAOaSjh6IX/q5J4zoRgIxlDpWz6/vkdV1bJU7dv9j7WWw/7l+Locx9fp+PX477Zeu369HK8Xr5/H6/bznV4/r8/Vup1d38z7ZF53r3szr8t56/q/93v4PdWb3vP0HT59/dPv+eQ7qxevb/5Puvfz8ff9j31g26qqaox9W2MfH9txv8blvHEc3+bxaX/6nfm87n7zfGprxpv79fdpxk+fv5vX2fN36/dfzz+dN8/n9D1vN+/fv+fmd7eT9Wzm2d2vXc9p3t33+/jz3/udN9/Pw+v0ruc/jq8FAMQRAAAQSAAAQCABAACBBAAABBIAABBIAABAIAEAAIEEAAAEEgAAEEgAAEAgAQAAgQQAAAQSAAAQSAAAQCABAACBBAAABBIAABBIAABAIAEAAIEEAAAEEgAAEEgAAEAgAQAAgQQAAAQSAAAQSAAAQCABAACBBAAABBIAABBIAABAIAEAAIEEAAAEEgAAEEgAAEAgAQAAgQQAAAQSAAAQSAAAQCABAACBBAAABBIAABBIAABAIAEAAIEEAAAEEgAAEEgAAEAgAQAAgQQAAAQSAAAQSAAAQCABAACBBAAABBIAABBIAABAIAEAAIEEAAAEEgAAEEgAAEAgAQAAgQQAAAQSAAAQSAAAQKAf44sx3naqASQAAAAASUVORK5CYII=\"></div><div style=\"vertical-align: middle; max-width: 514px; display: flex; justify-content: space-between;\"><div style=\"float: left;\"><div title=\"#3f7f93ff\" style=\"display: inline-block; width: 1em; height: 1em; margin: 0; vertical-align: middle; border: 1px solid #555; background-color: #3f7f93ff;\"></div> under</div><div style=\"margin: 0 auto; display: inline-block;\">bad <div title=\"#00000000\" style=\"display: inline-block; width: 1em; height: 1em; margin: 0; vertical-align: middle; border: 1px solid #555; background-color: #00000000;\"></div></div><div style=\"float: right;\">over <div title=\"#c3553aff\" style=\"display: inline-block; width: 1em; height: 1em; margin: 0; vertical-align: middle; border: 1px solid #555; background-color: #c3553aff;\"></div></div>"
      ],
      "text/plain": [
       "<matplotlib.colors.LinearSegmentedColormap at 0x7f138a689420>"
      ]
     },
     "execution_count": 29,
     "metadata": {},
     "output_type": "execute_result"
    }
   ],
   "source": [
    "sns.diverging_palette(220, 20, as_cmap=True)"
   ]
  },
  {
   "cell_type": "code",
   "execution_count": 30,
   "id": "e2b31d9a-6069-4f0a-a4b0-e98904ab28ef",
   "metadata": {},
   "outputs": [
    {
     "data": {
      "image/png": "[encoded data removed]",
      "text/html": [
       "<div style=\"vertical-align: middle;\"><strong>blend</strong> </div><div class=\"cmap\"><img alt=\"blend colormap\" title=\"blend\" style=\"border: 1px solid #555;\" src=\"data:image/png;base64,iVBORw0KGgoAAAANSUhEUgAAAgAAAABACAYAAABsv8+/AAAAFHRFWHRUaXRsZQBibGVuZCBjb2xvcm1hcKH0gPAAAAAadEVYdERlc2NyaXB0aW9uAGJsZW5kIGNvbG9ybWFwX6spFgAAADB0RVh0QXV0aG9yAE1hdHBsb3RsaWIgdjMuOC40LCBodHRwczovL21hdHBsb3RsaWIub3JnZM6ytAAAADJ0RVh0U29mdHdhcmUATWF0cGxvdGxpYiB2My44LjQsIGh0dHBzOi8vbWF0cGxvdGxpYi5vcmdKaC2TAAAB9ElEQVR4nO3WXVKDMBiG0S/V1bkNd+LCwYvSOoVmQvwZL95zbhCBmAScedrbx/taVdVaq6qqy3ZstR1v5+3yeH13PPy+Bte38UbP9/7ecNzB86fHrXPrn9+Hwfq/vQ+dcQfzmN/n/fiXqedm5/fz7+3kuIfv/uw6Hr+76f3rruP5PIfjduZxO762l+t963X8Wtaqqlqvh/sP63I73S6snfPl+fX7eJPjHObRmdf++n28pZ4/90/r+7pvsL6ls57J9R3v68xrv4+jfR3sR/89zo1z9n2P3+Pvru/0e/yz73m074P7dte3/34AIIkAAIBAAgAAAgkAAAgkAAAgkAAAgEACAAACCQAACCQAACCQAACAQAIAAAIJAAAIJAAAIJAAAIBAAgAAAgkAAAgkAAAgkAAAgEACAAACCQAACCQAACCQAACAQAIAAAIJAAAIJAAAIJAAAIBAAgAAAgkAAAgkAAAgkAAAgEACAAACCQAACCQAACCQAACAQAIAAAIJAAAIJAAAIJAAAIBAAgAAAgkAAAgkAAAgkAAAgEACAAACCQAACCQAACCQAACAQAIAAAIJAAAIJAAAIJAAAIBAAgAAAgkAAAgkAAAgkAAAgEACAAACCQAACCQAACCQAACAQAIAAAIJAAAIJAAAIJAAAIBAAgAAAn0CZsUIQTzdJnQAAAAASUVORK5CYII=\"></div><div style=\"vertical-align: middle; max-width: 514px; display: flex; justify-content: space-between;\"><div style=\"float: left;\"><div title=\"#4b8264ff\" style=\"display: inline-block; width: 1em; height: 1em; margin: 0; vertical-align: middle; border: 1px solid #555; background-color: #4b8264ff;\"></div> under</div><div style=\"margin: 0 auto; display: inline-block;\">bad <div title=\"#00000000\" style=\"display: inline-block; width: 1em; height: 1em; margin: 0; vertical-align: middle; border: 1px solid #555; background-color: #00000000;\"></div></div><div style=\"float: right;\">over <div title=\"#a956b7ff\" style=\"display: inline-block; width: 1em; height: 1em; margin: 0; vertical-align: middle; border: 1px solid #555; background-color: #a956b7ff;\"></div></div>"
      ],
      "text/plain": [
       "<matplotlib.colors.LinearSegmentedColormap at 0x7f138a6e3310>"
      ]
     },
     "execution_count": 30,
     "metadata": {},
     "output_type": "execute_result"
    }
   ],
   "source": [
    "sns.diverging_palette(145, 300, s=60, as_cmap=True)"
   ]
  },
  {
   "cell_type": "code",
   "execution_count": 31,
   "id": "c5424dea-602d-4fb3-be09-99b29e247218",
   "metadata": {},
   "outputs": [
    {
     "data": {
      "image/png": "[encoded data removed]",
      "text/html": [
       "<div style=\"vertical-align: middle;\"><strong>blend</strong> </div><div class=\"cmap\"><img alt=\"blend colormap\" title=\"blend\" style=\"border: 1px solid #555;\" src=\"data:image/png;base64,iVBORw0KGgoAAAANSUhEUgAAAgAAAABACAYAAABsv8+/AAAAFHRFWHRUaXRsZQBibGVuZCBjb2xvcm1hcKH0gPAAAAAadEVYdERlc2NyaXB0aW9uAGJsZW5kIGNvbG9ybWFwX6spFgAAADB0RVh0QXV0aG9yAE1hdHBsb3RsaWIgdjMuOC40LCBodHRwczovL21hdHBsb3RsaWIub3JnZM6ytAAAADJ0RVh0U29mdHdhcmUATWF0cGxvdGxpYiB2My44LjQsIGh0dHBzOi8vbWF0cGxvdGxpYi5vcmdKaC2TAAABvElEQVR4nO3WTU7CYBRA0Vd1ue7J5bkIAziomIg0MAA0uedM4PXnaykd3OX17f0wMzOH/fpxWMfT+fA1z9Y85/dvrXf5etced+G+NubN9efB17vX75sr19/vz29/+P/9R8917nO93+ff6TlceF+35v3uY2ZmXma3fi7r7qdl/bKcznOc52v/8nOerfOP+0+Of9D63+vMxnWP85wc/7D7/JvneNz+fHGd297Hf3kv/s/6G+ve6r29cn0AIEQAAECQAACAIAEAAEECAACCBAAABAkAAAgSAAAQJAAAIEgAAECQAACAIAEAAEECAACCBAAABAkAAAgSAAAQJAAAIEgAAECQAACAIAEAAEECAACCBAAABAkAAAgSAAAQJAAAIEgAAECQAACAIAEAAEECAACCBAAABAkAAAgSAAAQJAAAIEgAAECQAACAIAEAAEECAACCBAAABAkAAAgSAAAQJAAAIEgAAECQAACAIAEAAEECAACCBAAABAkAAAgSAAAQJAAAIEgAAECQAACAIAEAAEECAACCBAAABAkAAAgSAAAQJAAAIEgAAECQAACAIAEAAEECAACCBAAABAkAAAj6BFubRUYIFtOKAAAAAElFTkSuQmCC\"></div><div style=\"vertical-align: middle; max-width: 514px; display: flex; justify-content: space-between;\"><div style=\"float: left;\"><div title=\"#6da0e7ff\" style=\"display: inline-block; width: 1em; height: 1em; margin: 0; vertical-align: middle; border: 1px solid #555; background-color: #6da0e7ff;\"></div> under</div><div style=\"margin: 0 auto; display: inline-block;\">bad <div title=\"#00000000\" style=\"display: inline-block; width: 1em; height: 1em; margin: 0; vertical-align: middle; border: 1px solid #555; background-color: #00000000;\"></div></div><div style=\"float: right;\">over <div title=\"#e7844eff\" style=\"display: inline-block; width: 1em; height: 1em; margin: 0; vertical-align: middle; border: 1px solid #555; background-color: #e7844eff;\"></div></div>"
      ],
      "text/plain": [
       "<matplotlib.colors.LinearSegmentedColormap at 0x7f138a689840>"
      ]
     },
     "execution_count": 31,
     "metadata": {},
     "output_type": "execute_result"
    }
   ],
   "source": [
    "sns.diverging_palette(250, 30, l=65, center=\"dark\", as_cmap=True)"
   ]
  },
  {
   "cell_type": "markdown",
   "id": "abf584c3-3aa8-48de-9b39-d6adc85577be",
   "metadata": {},
   "source": [
    "### Other diverging palettes"
   ]
  },
  {
   "cell_type": "code",
   "execution_count": 32,
   "id": "59c4d931-38c7-4291-821b-ead758a8d895",
   "metadata": {},
   "outputs": [
    {
     "data": {
      "image/png": "[encoded data removed]",
      "text/html": [
       "<div style=\"vertical-align: middle;\"><strong>Spectral</strong> </div><div class=\"cmap\"><img alt=\"Spectral colormap\" title=\"Spectral\" style=\"border: 1px solid #555;\" src=\"data:image/png;base64,iVBORw0KGgoAAAANSUhEUgAAAgAAAABACAYAAABsv8+/AAAAF3RFWHRUaXRsZQBTcGVjdHJhbCBjb2xvcm1hcI/oV9sAAAAddEVYdERlc2NyaXB0aW9uAFNwZWN0cmFsIGNvbG9ybWFwppaw8gAAADB0RVh0QXV0aG9yAE1hdHBsb3RsaWIgdjMuOC40LCBodHRwczovL21hdHBsb3RsaWIub3JnZM6ytAAAADJ0RVh0U29mdHdhcmUATWF0cGxvdGxpYiB2My44LjQsIGh0dHBzOi8vbWF0cGxvdGxpYi5vcmdKaC2TAAACDklEQVR4nO3WO3KDMABFUQl2loVmp5gUCGaQzcgxSfXOaTT6AMZ2cet3/VpLKWWaStnGuo1zN9/3520+d/PR9fPgflfz+erzXN2vjfWYr6d57ed1fXnd07mpO1cH+xfPefdz7fcp7f1K+15qN9/36/GDDM4f69N5/bjP1Xzqrv/lfafuPlP3eYfrd6//m/X6/Ed5Pf7Vuf9+Xtneby2PNm7/w3UdzPfzaz9/91w3v/nc0vaXbSiPY6zdej3tL9389vnS7997Tv8+SzcO1x8fXvfp857W23ssbf6o53Gpr9dH+59e176PT++7tveY2gv3Y10u1vvz7Ye53h9df7H+7v4+FgAgjgAAgEACAAACCQAACCQAACCQAACAQAIAAAIJAAAIJAAAIJAAAIBAAgAAAgkAAAgkAAAgkAAAgEACAAACCQAACCQAACCQAACAQAIAAAIJAAAIJAAAIJAAAIBAAgAAAgkAAAgkAAAgkAAAgEACAAACCQAACCQAACCQAACAQAIAAAIJAAAIJAAAIJAAAIBAAgAAAgkAAAgkAAAgkAAAgEACAAACCQAACCQAACCQAACAQAIAAAIJAAAIJAAAIJAAAIBAAgAAAgkAAAgkAAAgkAAAgEACAAACCQAACCQAACCQAACAQAIAAAIJAAAIJAAAIJAAAIBAAgAAAgkAAAgkAAAgkAAAgEACAAAC/QB9nBLdjK/6iAAAAABJRU5ErkJggg==\"></div><div style=\"vertical-align: middle; max-width: 514px; display: flex; justify-content: space-between;\"><div style=\"float: left;\"><div title=\"#9e0142ff\" style=\"display: inline-block; width: 1em; height: 1em; margin: 0; vertical-align: middle; border: 1px solid #555; background-color: #9e0142ff;\"></div> under</div><div style=\"margin: 0 auto; display: inline-block;\">bad <div title=\"#00000000\" style=\"display: inline-block; width: 1em; height: 1em; margin: 0; vertical-align: middle; border: 1px solid #555; background-color: #00000000;\"></div></div><div style=\"float: right;\">over <div title=\"#5e4fa2ff\" style=\"display: inline-block; width: 1em; height: 1em; margin: 0; vertical-align: middle; border: 1px solid #555; background-color: #5e4fa2ff;\"></div></div>"
      ],
      "text/plain": [
       "<matplotlib.colors.LinearSegmentedColormap at 0x7f138a6e2dd0>"
      ]
     },
     "execution_count": 32,
     "metadata": {},
     "output_type": "execute_result"
    }
   ],
   "source": [
    "sns.color_palette(\"Spectral\", as_cmap=True)"
   ]
  },
  {
   "cell_type": "code",
   "execution_count": 33,
   "id": "1ddd26d0-43dc-49b2-9a38-4c4babb72855",
   "metadata": {},
   "outputs": [
    {
     "data": {
      "image/png": "[encoded data removed]",
      "text/html": [
       "<div style=\"vertical-align: middle;\"><strong>coolwarm</strong> </div><div class=\"cmap\"><img alt=\"coolwarm colormap\" title=\"coolwarm\" style=\"border: 1px solid #555;\" src=\"data:image/png;base64,iVBORw0KGgoAAAANSUhEUgAAAgAAAABACAYAAABsv8+/AAAAF3RFWHRUaXRsZQBjb29sd2FybSBjb2xvcm1hcPHW9i4AAAAddEVYdERlc2NyaXB0aW9uAGNvb2x3YXJtIGNvbG9ybWFw2KgRBwAAADB0RVh0QXV0aG9yAE1hdHBsb3RsaWIgdjMuOC40LCBodHRwczovL21hdHBsb3RsaWIub3JnZM6ytAAAADJ0RVh0U29mdHdhcmUATWF0cGxvdGxpYiB2My44LjQsIGh0dHBzOi8vbWF0cGxvdGxpYi5vcmdKaC2TAAACIUlEQVR4nO3WO3LbQBBF0QaW5TV40d6XTIwTCCo2MQQYOHrnJKr5NRip7vLr959RVbUsS1VVLetaVVXr+rzu50s7X2fnt+cu+/n5/nF+8Z315buz9/3310fzXvfrfP73nOn8mnzv+f7xfva9/bzPu9w/vnM+b36v3t+72J/fGxfvx739mt1v82tyXv13jPO5x7175y/fm53f3F/7fm333vf7o+2P7cP18371e+P9nOrvR/995/e+59ZkPZ17rN/fO+Zufe75vdr67znfv3o3tnv3Lt/t69HW3+fH/Zc579+/rLc2r82fzevf7/ePv+Pq3uTdf9rfHu/v/5y3e/v+1uc/tud3j8m84/0+72tf/x2frb+e/18BAEEEAAAEEgAAEEgAAEAgAQAAgQQAAAQSAAAQSAAAQCABAACBBAAABBIAABBIAABAIAEAAIEEAAAEEgAAEEgAAEAgAQAAgQQAAAQSAAAQSAAAQCABAACBBAAABBIAABBIAABAIAEAAIEEAAAEEgAAEEgAAEAgAQAAgQQAAAQSAAAQSAAAQCABAACBBAAABBIAABBIAABAIAEAAIEEAAAEEgAAEEgAAEAgAQAAgQQAAAQSAAAQSAAAQCABAACBBAAABBIAABBIAABAIAEAAIEEAAAEEgAAEEgAAEAgAQAAgQQAAAQSAAAQSAAAQCABAACBBAAABBIAABBIAABAIAEAAIEEAAAEEgAAEOgf6GZUalYlbg8AAAAASUVORK5CYII=\"></div><div style=\"vertical-align: middle; max-width: 514px; display: flex; justify-content: space-between;\"><div style=\"float: left;\"><div title=\"#3b4cc0ff\" style=\"display: inline-block; width: 1em; height: 1em; margin: 0; vertical-align: middle; border: 1px solid #555; background-color: #3b4cc0ff;\"></div> under</div><div style=\"margin: 0 auto; display: inline-block;\">bad <div title=\"#00000000\" style=\"display: inline-block; width: 1em; height: 1em; margin: 0; vertical-align: middle; border: 1px solid #555; background-color: #00000000;\"></div></div><div style=\"float: right;\">over <div title=\"#b40426ff\" style=\"display: inline-block; width: 1em; height: 1em; margin: 0; vertical-align: middle; border: 1px solid #555; background-color: #b40426ff;\"></div></div>"
      ],
      "text/plain": [
       "<matplotlib.colors.LinearSegmentedColormap at 0x7f138a6e2950>"
      ]
     },
     "execution_count": 33,
     "metadata": {},
     "output_type": "execute_result"
    }
   ],
   "source": [
    "sns.color_palette(\"coolwarm\", as_cmap=True)"
   ]
  },
  {
   "cell_type": "markdown",
   "id": "570189df-9045-404b-8a20-3363614b57f6",
   "metadata": {},
   "source": [
    "# References\n",
    "\n",
    "* [Seaborn Tutorial](https://seaborn.pydata.org/index.html)"
   ]
  }
 ],
 "metadata": {
  "kernelspec": {
   "display_name": "Python 3 (ipykernel)",
   "language": "python",
   "name": "python3"
  },
  "language_info": {
   "codemirror_mode": {
    "name": "ipython",
    "version": 3
   },
   "file_extension": ".py",
   "mimetype": "text/x-python",
   "name": "python",
   "nbconvert_exporter": "python",
   "pygments_lexer": "ipython3",
   "version": "3.10.13"
  }
 },
 "nbformat": 4,
 "nbformat_minor": 5
}
